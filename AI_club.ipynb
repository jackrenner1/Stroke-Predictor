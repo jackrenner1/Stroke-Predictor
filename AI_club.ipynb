{
  "nbformat": 4,
  "nbformat_minor": 0,
  "metadata": {
    "colab": {
      "provenance": [],
      "authorship_tag": "ABX9TyPQVy4KMMg5Ybl5DFIWQdr9",
      "include_colab_link": true
    },
    "kernelspec": {
      "name": "python3",
      "display_name": "Python 3"
    },
    "language_info": {
      "name": "python"
    }
  },
  "cells": [
    {
      "cell_type": "markdown",
      "metadata": {
        "id": "view-in-github",
        "colab_type": "text"
      },
      "source": [
        "<a href=\"https://colab.research.google.com/github/jackrenner1/Stroke-Predictor/blob/main/AI_club.ipynb\" target=\"_parent\"><img src=\"https://colab.research.google.com/assets/colab-badge.svg\" alt=\"Open In Colab\"/></a>"
      ]
    },
    {
      "cell_type": "markdown",
      "source": [
        "# **Stroke Predictor**\n",
        "\n",
        "\n",
        "## **Importing data**\n",
        "\n",
        "\n",
        "---\n",
        "Doing all necessary setup. Initializing the dataframe."
      ],
      "metadata": {
        "id": "ltadRXZtxAGn"
      }
    },
    {
      "cell_type": "code",
      "source": [
        "#import libraries\n",
        "import pandas as pd\n",
        "import numpy as np\n",
        "import matplotlib.pyplot as plt\n",
        "import sklearn\n",
        "\n",
        "#import dataset as a pandas dataframe\n",
        "df = pd.read_csv(\"healthcare-dataset-stroke-data.csv\")\n",
        "\n",
        "#import data for table joins\n",
        "gender = pd.read_csv(\"gender.csv\")\n",
        "married = pd.read_csv(\"married.csv\")\n",
        "residence = pd.read_csv(\"residence.csv\")\n",
        "smoked = pd.read_csv(\"smoked.csv\")\n",
        "work = pd.read_csv(\"work.csv\")"
      ],
      "metadata": {
        "id": "vS_3XqV8-viv"
      },
      "execution_count": 1,
      "outputs": []
    },
    {
      "cell_type": "markdown",
      "source": [
        "Then I drop all irrelevant columns and print out some general data about the dataset."
      ],
      "metadata": {
        "id": "XWlDf4zjlVlB"
      }
    },
    {
      "cell_type": "code",
      "source": [
        "# get rid of unimportant columns\n",
        "df = df.drop(columns=['id'])\n",
        "\n",
        "#printing the data types of each feature\n",
        "print(df.dtypes)\n",
        "\n",
        "#displays what is left\n",
        "df.describe().transpose()"
      ],
      "metadata": {
        "colab": {
          "base_uri": "https://localhost:8080/",
          "height": 452
        },
        "id": "VjBvd-PNBZmg",
        "outputId": "c6d76bd8-30bf-4766-b260-100eba5a2df2"
      },
      "execution_count": 3,
      "outputs": [
        {
          "output_type": "stream",
          "name": "stdout",
          "text": [
            "gender                object\n",
            "age                  float64\n",
            "hypertension           int64\n",
            "heart_disease          int64\n",
            "ever_married          object\n",
            "work_type             object\n",
            "Residence_type        object\n",
            "avg_glucose_level    float64\n",
            "bmi                  float64\n",
            "smoking_status        object\n",
            "stroke                 int64\n",
            "dtype: object\n"
          ]
        },
        {
          "output_type": "execute_result",
          "data": {
            "text/plain": [
              "                    count        mean        std    min     25%     50%  \\\n",
              "age                5110.0   43.226614  22.612647   0.08  25.000  45.000   \n",
              "hypertension       5110.0    0.097456   0.296607   0.00   0.000   0.000   \n",
              "heart_disease      5110.0    0.054012   0.226063   0.00   0.000   0.000   \n",
              "avg_glucose_level  5110.0  106.147677  45.283560  55.12  77.245  91.885   \n",
              "bmi                4909.0   28.893237   7.854067  10.30  23.500  28.100   \n",
              "stroke             5110.0    0.048728   0.215320   0.00   0.000   0.000   \n",
              "\n",
              "                      75%     max  \n",
              "age                 61.00   82.00  \n",
              "hypertension         0.00    1.00  \n",
              "heart_disease        0.00    1.00  \n",
              "avg_glucose_level  114.09  271.74  \n",
              "bmi                 33.10   97.60  \n",
              "stroke               0.00    1.00  "
            ],
            "text/html": [
              "\n",
              "  <div id=\"df-3ee970e1-ef12-4e8d-b0ba-2c8a69b63a8f\">\n",
              "    <div class=\"colab-df-container\">\n",
              "      <div>\n",
              "<style scoped>\n",
              "    .dataframe tbody tr th:only-of-type {\n",
              "        vertical-align: middle;\n",
              "    }\n",
              "\n",
              "    .dataframe tbody tr th {\n",
              "        vertical-align: top;\n",
              "    }\n",
              "\n",
              "    .dataframe thead th {\n",
              "        text-align: right;\n",
              "    }\n",
              "</style>\n",
              "<table border=\"1\" class=\"dataframe\">\n",
              "  <thead>\n",
              "    <tr style=\"text-align: right;\">\n",
              "      <th></th>\n",
              "      <th>count</th>\n",
              "      <th>mean</th>\n",
              "      <th>std</th>\n",
              "      <th>min</th>\n",
              "      <th>25%</th>\n",
              "      <th>50%</th>\n",
              "      <th>75%</th>\n",
              "      <th>max</th>\n",
              "    </tr>\n",
              "  </thead>\n",
              "  <tbody>\n",
              "    <tr>\n",
              "      <th>age</th>\n",
              "      <td>5110.0</td>\n",
              "      <td>43.226614</td>\n",
              "      <td>22.612647</td>\n",
              "      <td>0.08</td>\n",
              "      <td>25.000</td>\n",
              "      <td>45.000</td>\n",
              "      <td>61.00</td>\n",
              "      <td>82.00</td>\n",
              "    </tr>\n",
              "    <tr>\n",
              "      <th>hypertension</th>\n",
              "      <td>5110.0</td>\n",
              "      <td>0.097456</td>\n",
              "      <td>0.296607</td>\n",
              "      <td>0.00</td>\n",
              "      <td>0.000</td>\n",
              "      <td>0.000</td>\n",
              "      <td>0.00</td>\n",
              "      <td>1.00</td>\n",
              "    </tr>\n",
              "    <tr>\n",
              "      <th>heart_disease</th>\n",
              "      <td>5110.0</td>\n",
              "      <td>0.054012</td>\n",
              "      <td>0.226063</td>\n",
              "      <td>0.00</td>\n",
              "      <td>0.000</td>\n",
              "      <td>0.000</td>\n",
              "      <td>0.00</td>\n",
              "      <td>1.00</td>\n",
              "    </tr>\n",
              "    <tr>\n",
              "      <th>avg_glucose_level</th>\n",
              "      <td>5110.0</td>\n",
              "      <td>106.147677</td>\n",
              "      <td>45.283560</td>\n",
              "      <td>55.12</td>\n",
              "      <td>77.245</td>\n",
              "      <td>91.885</td>\n",
              "      <td>114.09</td>\n",
              "      <td>271.74</td>\n",
              "    </tr>\n",
              "    <tr>\n",
              "      <th>bmi</th>\n",
              "      <td>4909.0</td>\n",
              "      <td>28.893237</td>\n",
              "      <td>7.854067</td>\n",
              "      <td>10.30</td>\n",
              "      <td>23.500</td>\n",
              "      <td>28.100</td>\n",
              "      <td>33.10</td>\n",
              "      <td>97.60</td>\n",
              "    </tr>\n",
              "    <tr>\n",
              "      <th>stroke</th>\n",
              "      <td>5110.0</td>\n",
              "      <td>0.048728</td>\n",
              "      <td>0.215320</td>\n",
              "      <td>0.00</td>\n",
              "      <td>0.000</td>\n",
              "      <td>0.000</td>\n",
              "      <td>0.00</td>\n",
              "      <td>1.00</td>\n",
              "    </tr>\n",
              "  </tbody>\n",
              "</table>\n",
              "</div>\n",
              "      <button class=\"colab-df-convert\" onclick=\"convertToInteractive('df-3ee970e1-ef12-4e8d-b0ba-2c8a69b63a8f')\"\n",
              "              title=\"Convert this dataframe to an interactive table.\"\n",
              "              style=\"display:none;\">\n",
              "        \n",
              "  <svg xmlns=\"http://www.w3.org/2000/svg\" height=\"24px\"viewBox=\"0 0 24 24\"\n",
              "       width=\"24px\">\n",
              "    <path d=\"M0 0h24v24H0V0z\" fill=\"none\"/>\n",
              "    <path d=\"M18.56 5.44l.94 2.06.94-2.06 2.06-.94-2.06-.94-.94-2.06-.94 2.06-2.06.94zm-11 1L8.5 8.5l.94-2.06 2.06-.94-2.06-.94L8.5 2.5l-.94 2.06-2.06.94zm10 10l.94 2.06.94-2.06 2.06-.94-2.06-.94-.94-2.06-.94 2.06-2.06.94z\"/><path d=\"M17.41 7.96l-1.37-1.37c-.4-.4-.92-.59-1.43-.59-.52 0-1.04.2-1.43.59L10.3 9.45l-7.72 7.72c-.78.78-.78 2.05 0 2.83L4 21.41c.39.39.9.59 1.41.59.51 0 1.02-.2 1.41-.59l7.78-7.78 2.81-2.81c.8-.78.8-2.07 0-2.86zM5.41 20L4 18.59l7.72-7.72 1.47 1.35L5.41 20z\"/>\n",
              "  </svg>\n",
              "      </button>\n",
              "      \n",
              "  <style>\n",
              "    .colab-df-container {\n",
              "      display:flex;\n",
              "      flex-wrap:wrap;\n",
              "      gap: 12px;\n",
              "    }\n",
              "\n",
              "    .colab-df-convert {\n",
              "      background-color: #E8F0FE;\n",
              "      border: none;\n",
              "      border-radius: 50%;\n",
              "      cursor: pointer;\n",
              "      display: none;\n",
              "      fill: #1967D2;\n",
              "      height: 32px;\n",
              "      padding: 0 0 0 0;\n",
              "      width: 32px;\n",
              "    }\n",
              "\n",
              "    .colab-df-convert:hover {\n",
              "      background-color: #E2EBFA;\n",
              "      box-shadow: 0px 1px 2px rgba(60, 64, 67, 0.3), 0px 1px 3px 1px rgba(60, 64, 67, 0.15);\n",
              "      fill: #174EA6;\n",
              "    }\n",
              "\n",
              "    [theme=dark] .colab-df-convert {\n",
              "      background-color: #3B4455;\n",
              "      fill: #D2E3FC;\n",
              "    }\n",
              "\n",
              "    [theme=dark] .colab-df-convert:hover {\n",
              "      background-color: #434B5C;\n",
              "      box-shadow: 0px 1px 3px 1px rgba(0, 0, 0, 0.15);\n",
              "      filter: drop-shadow(0px 1px 2px rgba(0, 0, 0, 0.3));\n",
              "      fill: #FFFFFF;\n",
              "    }\n",
              "  </style>\n",
              "\n",
              "      <script>\n",
              "        const buttonEl =\n",
              "          document.querySelector('#df-3ee970e1-ef12-4e8d-b0ba-2c8a69b63a8f button.colab-df-convert');\n",
              "        buttonEl.style.display =\n",
              "          google.colab.kernel.accessAllowed ? 'block' : 'none';\n",
              "\n",
              "        async function convertToInteractive(key) {\n",
              "          const element = document.querySelector('#df-3ee970e1-ef12-4e8d-b0ba-2c8a69b63a8f');\n",
              "          const dataTable =\n",
              "            await google.colab.kernel.invokeFunction('convertToInteractive',\n",
              "                                                     [key], {});\n",
              "          if (!dataTable) return;\n",
              "\n",
              "          const docLinkHtml = 'Like what you see? Visit the ' +\n",
              "            '<a target=\"_blank\" href=https://colab.research.google.com/notebooks/data_table.ipynb>data table notebook</a>'\n",
              "            + ' to learn more about interactive tables.';\n",
              "          element.innerHTML = '';\n",
              "          dataTable['output_type'] = 'display_data';\n",
              "          await google.colab.output.renderOutput(dataTable, element);\n",
              "          const docLink = document.createElement('div');\n",
              "          docLink.innerHTML = docLinkHtml;\n",
              "          element.appendChild(docLink);\n",
              "        }\n",
              "      </script>\n",
              "    </div>\n",
              "  </div>\n",
              "  "
            ]
          },
          "metadata": {},
          "execution_count": 3
        }
      ]
    },
    {
      "cell_type": "markdown",
      "source": [
        "Then I use table joins to enumerate any column with strings (objects)"
      ],
      "metadata": {
        "id": "6Tpg1ik2lkfM"
      }
    },
    {
      "cell_type": "code",
      "source": [
        "#using inner table joins, enumerate the columns that use strings. This will add the enumerated columns\n",
        "df = pd.merge(df,gender,how = \"inner\",on=\"gender\")\n",
        "df = pd.merge(df,married,how = \"inner\",on=\"ever_married\")\n",
        "df = pd.merge(df,residence, how =\"inner\",on=\"Residence_type\")\n",
        "df = pd.merge(df,smoked,how = \"inner\", on=\"smoking_status\")\n",
        "df = pd.merge(df,work,how = \"inner\",on=\"work_type\")\n",
        "\n",
        "\n",
        "#leave only enumerated columns, original ones are not important anymore\n",
        "df.drop(columns=['gender', \"ever_married\", \"Residence_type\", \"smoking_status\", \"work_type\"], inplace=True)\n",
        "\n",
        "#check to make sure everything looks right\n",
        "df.head()\n"
      ],
      "metadata": {
        "colab": {
          "base_uri": "https://localhost:8080/",
          "height": 306
        },
        "id": "9yPdPnpNIo6J",
        "outputId": "03d64f13-2468-4478-d05b-7590916f1b38"
      },
      "execution_count": 4,
      "outputs": [
        {
          "output_type": "stream",
          "name": "stdout",
          "text": [
            "5110\n",
            "687\n"
          ]
        },
        {
          "output_type": "execute_result",
          "data": {
            "text/plain": [
              "    age  hypertension  heart_disease  avg_glucose_level   bmi  stroke  \\\n",
              "0  67.0             0              1             228.69  36.6       1   \n",
              "1  81.0             0              0             186.21  29.0       1   \n",
              "2  71.0             0              0             102.87  27.2       1   \n",
              "3  78.0             1              0              75.32   NaN       1   \n",
              "4  78.0             0              0             237.75   NaN       1   \n",
              "\n",
              "   gender_value  maried_value  residence_value  smoking_value  work_value  \n",
              "0             1             2                1              2           1  \n",
              "1             1             2                1              2           1  \n",
              "2             1             2                1              2           1  \n",
              "3             1             2                1              2           1  \n",
              "4             1             2                1              2           1  "
            ],
            "text/html": [
              "\n",
              "  <div id=\"df-53e27433-a2be-47f6-8498-8dde4f1d0060\">\n",
              "    <div class=\"colab-df-container\">\n",
              "      <div>\n",
              "<style scoped>\n",
              "    .dataframe tbody tr th:only-of-type {\n",
              "        vertical-align: middle;\n",
              "    }\n",
              "\n",
              "    .dataframe tbody tr th {\n",
              "        vertical-align: top;\n",
              "    }\n",
              "\n",
              "    .dataframe thead th {\n",
              "        text-align: right;\n",
              "    }\n",
              "</style>\n",
              "<table border=\"1\" class=\"dataframe\">\n",
              "  <thead>\n",
              "    <tr style=\"text-align: right;\">\n",
              "      <th></th>\n",
              "      <th>age</th>\n",
              "      <th>hypertension</th>\n",
              "      <th>heart_disease</th>\n",
              "      <th>avg_glucose_level</th>\n",
              "      <th>bmi</th>\n",
              "      <th>stroke</th>\n",
              "      <th>gender_value</th>\n",
              "      <th>maried_value</th>\n",
              "      <th>residence_value</th>\n",
              "      <th>smoking_value</th>\n",
              "      <th>work_value</th>\n",
              "    </tr>\n",
              "  </thead>\n",
              "  <tbody>\n",
              "    <tr>\n",
              "      <th>0</th>\n",
              "      <td>67.0</td>\n",
              "      <td>0</td>\n",
              "      <td>1</td>\n",
              "      <td>228.69</td>\n",
              "      <td>36.6</td>\n",
              "      <td>1</td>\n",
              "      <td>1</td>\n",
              "      <td>2</td>\n",
              "      <td>1</td>\n",
              "      <td>2</td>\n",
              "      <td>1</td>\n",
              "    </tr>\n",
              "    <tr>\n",
              "      <th>1</th>\n",
              "      <td>81.0</td>\n",
              "      <td>0</td>\n",
              "      <td>0</td>\n",
              "      <td>186.21</td>\n",
              "      <td>29.0</td>\n",
              "      <td>1</td>\n",
              "      <td>1</td>\n",
              "      <td>2</td>\n",
              "      <td>1</td>\n",
              "      <td>2</td>\n",
              "      <td>1</td>\n",
              "    </tr>\n",
              "    <tr>\n",
              "      <th>2</th>\n",
              "      <td>71.0</td>\n",
              "      <td>0</td>\n",
              "      <td>0</td>\n",
              "      <td>102.87</td>\n",
              "      <td>27.2</td>\n",
              "      <td>1</td>\n",
              "      <td>1</td>\n",
              "      <td>2</td>\n",
              "      <td>1</td>\n",
              "      <td>2</td>\n",
              "      <td>1</td>\n",
              "    </tr>\n",
              "    <tr>\n",
              "      <th>3</th>\n",
              "      <td>78.0</td>\n",
              "      <td>1</td>\n",
              "      <td>0</td>\n",
              "      <td>75.32</td>\n",
              "      <td>NaN</td>\n",
              "      <td>1</td>\n",
              "      <td>1</td>\n",
              "      <td>2</td>\n",
              "      <td>1</td>\n",
              "      <td>2</td>\n",
              "      <td>1</td>\n",
              "    </tr>\n",
              "    <tr>\n",
              "      <th>4</th>\n",
              "      <td>78.0</td>\n",
              "      <td>0</td>\n",
              "      <td>0</td>\n",
              "      <td>237.75</td>\n",
              "      <td>NaN</td>\n",
              "      <td>1</td>\n",
              "      <td>1</td>\n",
              "      <td>2</td>\n",
              "      <td>1</td>\n",
              "      <td>2</td>\n",
              "      <td>1</td>\n",
              "    </tr>\n",
              "  </tbody>\n",
              "</table>\n",
              "</div>\n",
              "      <button class=\"colab-df-convert\" onclick=\"convertToInteractive('df-53e27433-a2be-47f6-8498-8dde4f1d0060')\"\n",
              "              title=\"Convert this dataframe to an interactive table.\"\n",
              "              style=\"display:none;\">\n",
              "        \n",
              "  <svg xmlns=\"http://www.w3.org/2000/svg\" height=\"24px\"viewBox=\"0 0 24 24\"\n",
              "       width=\"24px\">\n",
              "    <path d=\"M0 0h24v24H0V0z\" fill=\"none\"/>\n",
              "    <path d=\"M18.56 5.44l.94 2.06.94-2.06 2.06-.94-2.06-.94-.94-2.06-.94 2.06-2.06.94zm-11 1L8.5 8.5l.94-2.06 2.06-.94-2.06-.94L8.5 2.5l-.94 2.06-2.06.94zm10 10l.94 2.06.94-2.06 2.06-.94-2.06-.94-.94-2.06-.94 2.06-2.06.94z\"/><path d=\"M17.41 7.96l-1.37-1.37c-.4-.4-.92-.59-1.43-.59-.52 0-1.04.2-1.43.59L10.3 9.45l-7.72 7.72c-.78.78-.78 2.05 0 2.83L4 21.41c.39.39.9.59 1.41.59.51 0 1.02-.2 1.41-.59l7.78-7.78 2.81-2.81c.8-.78.8-2.07 0-2.86zM5.41 20L4 18.59l7.72-7.72 1.47 1.35L5.41 20z\"/>\n",
              "  </svg>\n",
              "      </button>\n",
              "      \n",
              "  <style>\n",
              "    .colab-df-container {\n",
              "      display:flex;\n",
              "      flex-wrap:wrap;\n",
              "      gap: 12px;\n",
              "    }\n",
              "\n",
              "    .colab-df-convert {\n",
              "      background-color: #E8F0FE;\n",
              "      border: none;\n",
              "      border-radius: 50%;\n",
              "      cursor: pointer;\n",
              "      display: none;\n",
              "      fill: #1967D2;\n",
              "      height: 32px;\n",
              "      padding: 0 0 0 0;\n",
              "      width: 32px;\n",
              "    }\n",
              "\n",
              "    .colab-df-convert:hover {\n",
              "      background-color: #E2EBFA;\n",
              "      box-shadow: 0px 1px 2px rgba(60, 64, 67, 0.3), 0px 1px 3px 1px rgba(60, 64, 67, 0.15);\n",
              "      fill: #174EA6;\n",
              "    }\n",
              "\n",
              "    [theme=dark] .colab-df-convert {\n",
              "      background-color: #3B4455;\n",
              "      fill: #D2E3FC;\n",
              "    }\n",
              "\n",
              "    [theme=dark] .colab-df-convert:hover {\n",
              "      background-color: #434B5C;\n",
              "      box-shadow: 0px 1px 3px 1px rgba(0, 0, 0, 0.15);\n",
              "      filter: drop-shadow(0px 1px 2px rgba(0, 0, 0, 0.3));\n",
              "      fill: #FFFFFF;\n",
              "    }\n",
              "  </style>\n",
              "\n",
              "      <script>\n",
              "        const buttonEl =\n",
              "          document.querySelector('#df-53e27433-a2be-47f6-8498-8dde4f1d0060 button.colab-df-convert');\n",
              "        buttonEl.style.display =\n",
              "          google.colab.kernel.accessAllowed ? 'block' : 'none';\n",
              "\n",
              "        async function convertToInteractive(key) {\n",
              "          const element = document.querySelector('#df-53e27433-a2be-47f6-8498-8dde4f1d0060');\n",
              "          const dataTable =\n",
              "            await google.colab.kernel.invokeFunction('convertToInteractive',\n",
              "                                                     [key], {});\n",
              "          if (!dataTable) return;\n",
              "\n",
              "          const docLinkHtml = 'Like what you see? Visit the ' +\n",
              "            '<a target=\"_blank\" href=https://colab.research.google.com/notebooks/data_table.ipynb>data table notebook</a>'\n",
              "            + ' to learn more about interactive tables.';\n",
              "          element.innerHTML = '';\n",
              "          dataTable['output_type'] = 'display_data';\n",
              "          await google.colab.output.renderOutput(dataTable, element);\n",
              "          const docLink = document.createElement('div');\n",
              "          docLink.innerHTML = docLinkHtml;\n",
              "          element.appendChild(docLink);\n",
              "        }\n",
              "      </script>\n",
              "    </div>\n",
              "  </div>\n",
              "  "
            ]
          },
          "metadata": {},
          "execution_count": 4
        }
      ]
    },
    {
      "cell_type": "code",
      "source": [
        "#verifty every column is an number\n",
        "print(df.dtypes)"
      ],
      "metadata": {
        "colab": {
          "base_uri": "https://localhost:8080/"
        },
        "id": "LrilbYm_ZZ3G",
        "outputId": "a2c97a8b-ab04-4323-b32e-b714b23a1f47"
      },
      "execution_count": 5,
      "outputs": [
        {
          "output_type": "stream",
          "name": "stdout",
          "text": [
            "age                  float64\n",
            "hypertension           int64\n",
            "heart_disease          int64\n",
            "avg_glucose_level    float64\n",
            "bmi                  float64\n",
            "stroke                 int64\n",
            "gender_value           int64\n",
            "maried_value           int64\n",
            "residence_value        int64\n",
            "smoking_value          int64\n",
            "work_value             int64\n",
            "dtype: object\n"
          ]
        }
      ]
    },
    {
      "cell_type": "markdown",
      "source": [
        "## **Exploratory Data Analysis**\n",
        "\n",
        "Graphing the target feature and the features with missing data to check for biases.\n",
        "<br><br>\n",
        "#### **Null and Duplicated Values**\n",
        "Shows amount of NaN's in the bmi column.\n",
        "\n",
        "\n"
      ],
      "metadata": {
        "id": "C7oySyjumFI5"
      }
    },
    {
      "cell_type": "code",
      "source": [
        "# amount of usuable data in the bmi \n",
        "hf = df.loc[np.isnan(df['bmi'])]\n",
        "print(len(hf.index))"
      ],
      "metadata": {
        "colab": {
          "base_uri": "https://localhost:8080/"
        },
        "id": "jQwGLINtOoAj",
        "outputId": "5b084214-1297-42ae-bc1b-976cd540359a"
      },
      "execution_count": 6,
      "outputs": [
        {
          "output_type": "stream",
          "name": "stdout",
          "text": [
            "201\n"
          ]
        }
      ]
    },
    {
      "cell_type": "markdown",
      "source": [
        "Shows the amount of unuseable data in the smoking column."
      ],
      "metadata": {
        "id": "GnhHEDANnbKv"
      }
    },
    {
      "cell_type": "code",
      "source": [
        "# a smoking value of 1 means it was unknown if the person smoked or not, this is not very helpful to us.\n",
        "hf = df.loc[df['smoking_value'] == 1]\n",
        "print(len(hf.index))"
      ],
      "metadata": {
        "colab": {
          "base_uri": "https://localhost:8080/"
        },
        "id": "fzLITwwPnlHX",
        "outputId": "7f9e7831-ef21-4789-be6b-b3e4216c7e72"
      },
      "execution_count": 8,
      "outputs": [
        {
          "output_type": "stream",
          "name": "stdout",
          "text": [
            "1544\n"
          ]
        }
      ]
    },
    {
      "cell_type": "markdown",
      "source": [
        "Shows the amount of time that for the same row the bmi and smoking value is missing\n"
      ],
      "metadata": {
        "id": "5iia3mF5obAv"
      }
    },
    {
      "cell_type": "code",
      "source": [
        "hf = hf.loc[np.isnan(hf['bmi'])]\n",
        "print(len(hf.index))"
      ],
      "metadata": {
        "colab": {
          "base_uri": "https://localhost:8080/"
        },
        "id": "JDgPEwOAoj6_",
        "outputId": "1927fd40-bbfa-4a80-cea2-b59569cc8b0b"
      },
      "execution_count": 9,
      "outputs": [
        {
          "output_type": "stream",
          "name": "stdout",
          "text": [
            "61\n"
          ]
        }
      ]
    },
    {
      "cell_type": "markdown",
      "source": [
        "This means that the number of unique rows with missing data is 201 + 1544 - 64 = 1681 rows. This would be very bad to delete because the dataset is only around 5000 rows."
      ],
      "metadata": {
        "id": "qco6b7-yoy6G"
      }
    },
    {
      "cell_type": "code",
      "source": [
        "#Checking for NaNs in each column, this does not include the unusable data in smoking (\"Unknown = 1\")\n",
        "df.isna().sum()"
      ],
      "metadata": {
        "colab": {
          "base_uri": "https://localhost:8080/"
        },
        "id": "22L2BlPzZmgJ",
        "outputId": "886fe296-a617-4cea-f8ef-ab39ea08214e"
      },
      "execution_count": 10,
      "outputs": [
        {
          "output_type": "execute_result",
          "data": {
            "text/plain": [
              "age                    0\n",
              "hypertension           0\n",
              "heart_disease          0\n",
              "avg_glucose_level      0\n",
              "bmi                  201\n",
              "stroke                 0\n",
              "gender_value           0\n",
              "maried_value           0\n",
              "residence_value        0\n",
              "smoking_value          0\n",
              "work_value             0\n",
              "dtype: int64"
            ]
          },
          "metadata": {},
          "execution_count": 10
        }
      ]
    },
    {
      "cell_type": "markdown",
      "source": [
        "Shows the number of rows that are identical"
      ],
      "metadata": {
        "id": "tv705qvFpKZ5"
      }
    },
    {
      "cell_type": "code",
      "source": [
        "print(df.duplicated().sum())\n",
        "\n"
      ],
      "metadata": {
        "colab": {
          "base_uri": "https://localhost:8080/"
        },
        "id": "zcGot5nSZ7GX",
        "outputId": "74ab05d3-3326-4306-c7c5-e42f4bfeb48b"
      },
      "execution_count": 11,
      "outputs": [
        {
          "output_type": "stream",
          "name": "stdout",
          "text": [
            "0\n"
          ]
        }
      ]
    },
    {
      "cell_type": "markdown",
      "source": [
        "#### **Features with Missing Data**\n",
        "\n",
        "These show the boxplots for the two columns with missing data."
      ],
      "metadata": {
        "id": "An0aUjQgpWkX"
      }
    },
    {
      "cell_type": "code",
      "source": [
        "plot = df.boxplot(column=['bmi'])\n"
      ],
      "metadata": {
        "colab": {
          "base_uri": "https://localhost:8080/",
          "height": 265
        },
        "id": "kse7NfRpplTh",
        "outputId": "5e5c3e26-ad5d-4661-9a5e-8ddd402de2b3"
      },
      "execution_count": 12,
      "outputs": [
        {
          "output_type": "display_data",
          "data": {
            "text/plain": [
              "<Figure size 432x288 with 1 Axes>"
            ],
            "image/png": "[encoded data removed]"
          },
          "metadata": {
            "needs_background": "light"
          }
        }
      ]
    },
    {
      "cell_type": "markdown",
      "source": [
        "We can see numerous outliers in one direction, thus the data is skewed."
      ],
      "metadata": {
        "id": "mFHxnQFPpyJ-"
      }
    },
    {
      "cell_type": "code",
      "source": [
        "plot = df.hist(column=['smoking_value'])\n"
      ],
      "metadata": {
        "colab": {
          "base_uri": "https://localhost:8080/",
          "height": 281
        },
        "id": "VQElfG3Vp8ee",
        "outputId": "b29a6c39-4e23-4e78-c733-32f2207dd593"
      },
      "execution_count": 14,
      "outputs": [
        {
          "output_type": "display_data",
          "data": {
            "text/plain": [
              "<Figure size 432x288 with 1 Axes>"
            ],
            "image/png": "[encoded data removed]"
          },
          "metadata": {
            "needs_background": "light"
          }
        }
      ]
    },
    {
      "cell_type": "markdown",
      "source": [
        "This histogram also shows that the smoking column is also somewhat skewed."
      ],
      "metadata": {
        "id": "hM-LmS9uqekk"
      }
    },
    {
      "cell_type": "markdown",
      "source": [
        "#### **Target Feature**\n",
        "\n",
        "Graphing the target feature for this analysis."
      ],
      "metadata": {
        "id": "L1KVm8ekq0GP"
      }
    },
    {
      "cell_type": "code",
      "source": [
        "plot = df.hist(column=['stroke'])"
      ],
      "metadata": {
        "colab": {
          "base_uri": "https://localhost:8080/",
          "height": 281
        },
        "id": "bTY00GWNq6L-",
        "outputId": "a8d1acab-ca96-46d8-dfc6-0ccf31de05e6"
      },
      "execution_count": 15,
      "outputs": [
        {
          "output_type": "display_data",
          "data": {
            "text/plain": [
              "<Figure size 432x288 with 1 Axes>"
            ],
            "image/png": "[encoded data removed]"
          },
          "metadata": {
            "needs_background": "light"
          }
        }
      ]
    },
    {
      "cell_type": "markdown",
      "source": [
        "The target feature is very skewed. This makes sense though as it is much easier to find people who have not had a stroke."
      ],
      "metadata": {
        "id": "FuauTToWrljS"
      }
    },
    {
      "cell_type": "code",
      "source": [
        "hf = df.loc[np.isnan(df['bmi'])]\n",
        "hf.hist(column='stroke')\n"
      ],
      "metadata": {
        "colab": {
          "base_uri": "https://localhost:8080/",
          "height": 317
        },
        "id": "BmINiFYBr6_x",
        "outputId": "fe2d5bcb-98b6-4579-8636-6bc5a45179d0"
      },
      "execution_count": 18,
      "outputs": [
        {
          "output_type": "execute_result",
          "data": {
            "text/plain": [
              "array([[<matplotlib.axes._subplots.AxesSubplot object at 0x7f73cdf293d0>]],\n",
              "      dtype=object)"
            ]
          },
          "metadata": {},
          "execution_count": 18
        },
        {
          "output_type": "display_data",
          "data": {
            "text/plain": [
              "<Figure size 432x288 with 1 Axes>"
            ],
            "image/png": "[encoded data removed]"
          },
          "metadata": {
            "needs_background": "light"
          }
        }
      ]
    },
    {
      "cell_type": "markdown",
      "source": [
        "This is a graph of the distribution of missing values for the bmi column. Of course much more of the missing data is going to come from people who have not had a stroke because thats who the majority of the sample was. But, looking at the data in terms of a percentage of people sampled, the missing values seem to be random.\n",
        "\n"
      ],
      "metadata": {
        "id": "UIhWaC4wsFxT"
      }
    },
    {
      "cell_type": "code",
      "source": [
        "hf = df.loc[df['smoking_value'] == 1]\n",
        "hf.hist(column='stroke')"
      ],
      "metadata": {
        "colab": {
          "base_uri": "https://localhost:8080/",
          "height": 317
        },
        "id": "GC9ZbxF6sto8",
        "outputId": "c7df1c45-e966-40dd-ecc3-e0e1927bfdcd"
      },
      "execution_count": 19,
      "outputs": [
        {
          "output_type": "execute_result",
          "data": {
            "text/plain": [
              "array([[<matplotlib.axes._subplots.AxesSubplot object at 0x7f73cdeb95d0>]],\n",
              "      dtype=object)"
            ]
          },
          "metadata": {},
          "execution_count": 19
        },
        {
          "output_type": "display_data",
          "data": {
            "text/plain": [
              "<Figure size 432x288 with 1 Axes>"
            ],
            "image/png": "[encoded data removed]"
          },
          "metadata": {
            "needs_background": "light"
          }
        }
      ]
    },
    {
      "cell_type": "markdown",
      "source": [
        "This is a graph of the distribution of missing values for the bmi column. The distribution of missing values is mostly random for the same explanation as above."
      ],
      "metadata": {
        "id": "0Iwq8YC0s4k-"
      }
    }
  ]
}