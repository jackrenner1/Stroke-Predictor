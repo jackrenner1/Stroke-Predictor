{
  "nbformat": 4,
  "nbformat_minor": 0,
  "metadata": {
    "colab": {
      "provenance": [],
      "authorship_tag": "ABX9TyOfHpXzCDoZTUSl8/O2OG/6"
    },
    "kernelspec": {
      "name": "python3",
      "display_name": "Python 3"
    },
    "language_info": {
      "name": "python"
    }
  },
  "cells": [
    {
      "cell_type": "markdown",
      "source": [
        "# **Stroke Predictor**\n",
        "\n",
        "\n",
        "## **Importing data**\n",
        "\n",
        "\n",
        "---\n",
        "Doing all necessary setup. Initializing the dataframe."
      ],
      "metadata": {
        "id": "ltadRXZtxAGn"
      }
    },
    {
      "cell_type": "code",
      "source": [
        "#import libraries\n",
        "import pandas as pd\n",
        "import numpy as np\n",
        "import matplotlib.pyplot as plt\n",
        "import sklearn\n",
        "\n",
        "#import dataset as a pandas dataframe\n",
        "df = pd.read_csv(\"healthcare-dataset-stroke-data.csv\")\n",
        "\n",
        "#import data for table joins\n",
        "gender = pd.read_csv(\"gender.csv\")\n",
        "married = pd.read_csv(\"married.csv\")\n",
        "residence = pd.read_csv(\"residence.csv\")\n",
        "smoked = pd.read_csv(\"smoked.csv\")\n",
        "work = pd.read_csv(\"work.csv\")"
      ],
      "metadata": {
        "id": "vS_3XqV8-viv"
      },
      "execution_count": 1,
      "outputs": []
    },
    {
      "cell_type": "markdown",
      "source": [
        "Then I drop all irrelevant columns and print out some general data about the dataset."
      ],
      "metadata": {
        "id": "XWlDf4zjlVlB"
      }
    },
    {
      "cell_type": "code",
      "source": [
        "# get rid of unimportant columns\n",
        "df = df.drop(columns=['id'])\n",
        "\n",
        "#printing the data types of each feature\n",
        "print(df.dtypes)\n",
        "\n",
        "#displays what is left\n",
        "df.describe().transpose()"
      ],
      "metadata": {
        "colab": {
          "base_uri": "https://localhost:8080/",
          "height": 452
        },
        "id": "VjBvd-PNBZmg",
        "outputId": "d21250d6-41a8-4747-caff-7b42073aef0c"
      },
      "execution_count": 2,
      "outputs": [
        {
          "output_type": "stream",
          "name": "stdout",
          "text": [
            "gender                object\n",
            "age                  float64\n",
            "hypertension           int64\n",
            "heart_disease          int64\n",
            "ever_married          object\n",
            "work_type             object\n",
            "Residence_type        object\n",
            "avg_glucose_level    float64\n",
            "bmi                  float64\n",
            "smoking_status        object\n",
            "stroke                 int64\n",
            "dtype: object\n"
          ]
        },
        {
          "output_type": "execute_result",
          "data": {
            "text/plain": [
              "                    count        mean        std    min     25%     50%  \\\n",
              "age                5110.0   43.226614  22.612647   0.08  25.000  45.000   \n",
              "hypertension       5110.0    0.097456   0.296607   0.00   0.000   0.000   \n",
              "heart_disease      5110.0    0.054012   0.226063   0.00   0.000   0.000   \n",
              "avg_glucose_level  5110.0  106.147677  45.283560  55.12  77.245  91.885   \n",
              "bmi                4909.0   28.893237   7.854067  10.30  23.500  28.100   \n",
              "stroke             5110.0    0.048728   0.215320   0.00   0.000   0.000   \n",
              "\n",
              "                      75%     max  \n",
              "age                 61.00   82.00  \n",
              "hypertension         0.00    1.00  \n",
              "heart_disease        0.00    1.00  \n",
              "avg_glucose_level  114.09  271.74  \n",
              "bmi                 33.10   97.60  \n",
              "stroke               0.00    1.00  "
            ],
            "text/html": [
              "\n",
              "  <div id=\"df-77987721-3998-4c6c-997b-074e6934e8b9\">\n",
              "    <div class=\"colab-df-container\">\n",
              "      <div>\n",
              "<style scoped>\n",
              "    .dataframe tbody tr th:only-of-type {\n",
              "        vertical-align: middle;\n",
              "    }\n",
              "\n",
              "    .dataframe tbody tr th {\n",
              "        vertical-align: top;\n",
              "    }\n",
              "\n",
              "    .dataframe thead th {\n",
              "        text-align: right;\n",
              "    }\n",
              "</style>\n",
              "<table border=\"1\" class=\"dataframe\">\n",
              "  <thead>\n",
              "    <tr style=\"text-align: right;\">\n",
              "      <th></th>\n",
              "      <th>count</th>\n",
              "      <th>mean</th>\n",
              "      <th>std</th>\n",
              "      <th>min</th>\n",
              "      <th>25%</th>\n",
              "      <th>50%</th>\n",
              "      <th>75%</th>\n",
              "      <th>max</th>\n",
              "    </tr>\n",
              "  </thead>\n",
              "  <tbody>\n",
              "    <tr>\n",
              "      <th>age</th>\n",
              "      <td>5110.0</td>\n",
              "      <td>43.226614</td>\n",
              "      <td>22.612647</td>\n",
              "      <td>0.08</td>\n",
              "      <td>25.000</td>\n",
              "      <td>45.000</td>\n",
              "      <td>61.00</td>\n",
              "      <td>82.00</td>\n",
              "    </tr>\n",
              "    <tr>\n",
              "      <th>hypertension</th>\n",
              "      <td>5110.0</td>\n",
              "      <td>0.097456</td>\n",
              "      <td>0.296607</td>\n",
              "      <td>0.00</td>\n",
              "      <td>0.000</td>\n",
              "      <td>0.000</td>\n",
              "      <td>0.00</td>\n",
              "      <td>1.00</td>\n",
              "    </tr>\n",
              "    <tr>\n",
              "      <th>heart_disease</th>\n",
              "      <td>5110.0</td>\n",
              "      <td>0.054012</td>\n",
              "      <td>0.226063</td>\n",
              "      <td>0.00</td>\n",
              "      <td>0.000</td>\n",
              "      <td>0.000</td>\n",
              "      <td>0.00</td>\n",
              "      <td>1.00</td>\n",
              "    </tr>\n",
              "    <tr>\n",
              "      <th>avg_glucose_level</th>\n",
              "      <td>5110.0</td>\n",
              "      <td>106.147677</td>\n",
              "      <td>45.283560</td>\n",
              "      <td>55.12</td>\n",
              "      <td>77.245</td>\n",
              "      <td>91.885</td>\n",
              "      <td>114.09</td>\n",
              "      <td>271.74</td>\n",
              "    </tr>\n",
              "    <tr>\n",
              "      <th>bmi</th>\n",
              "      <td>4909.0</td>\n",
              "      <td>28.893237</td>\n",
              "      <td>7.854067</td>\n",
              "      <td>10.30</td>\n",
              "      <td>23.500</td>\n",
              "      <td>28.100</td>\n",
              "      <td>33.10</td>\n",
              "      <td>97.60</td>\n",
              "    </tr>\n",
              "    <tr>\n",
              "      <th>stroke</th>\n",
              "      <td>5110.0</td>\n",
              "      <td>0.048728</td>\n",
              "      <td>0.215320</td>\n",
              "      <td>0.00</td>\n",
              "      <td>0.000</td>\n",
              "      <td>0.000</td>\n",
              "      <td>0.00</td>\n",
              "      <td>1.00</td>\n",
              "    </tr>\n",
              "  </tbody>\n",
              "</table>\n",
              "</div>\n",
              "      <button class=\"colab-df-convert\" onclick=\"convertToInteractive('df-77987721-3998-4c6c-997b-074e6934e8b9')\"\n",
              "              title=\"Convert this dataframe to an interactive table.\"\n",
              "              style=\"display:none;\">\n",
              "        \n",
              "  <svg xmlns=\"http://www.w3.org/2000/svg\" height=\"24px\"viewBox=\"0 0 24 24\"\n",
              "       width=\"24px\">\n",
              "    <path d=\"M0 0h24v24H0V0z\" fill=\"none\"/>\n",
              "    <path d=\"M18.56 5.44l.94 2.06.94-2.06 2.06-.94-2.06-.94-.94-2.06-.94 2.06-2.06.94zm-11 1L8.5 8.5l.94-2.06 2.06-.94-2.06-.94L8.5 2.5l-.94 2.06-2.06.94zm10 10l.94 2.06.94-2.06 2.06-.94-2.06-.94-.94-2.06-.94 2.06-2.06.94z\"/><path d=\"M17.41 7.96l-1.37-1.37c-.4-.4-.92-.59-1.43-.59-.52 0-1.04.2-1.43.59L10.3 9.45l-7.72 7.72c-.78.78-.78 2.05 0 2.83L4 21.41c.39.39.9.59 1.41.59.51 0 1.02-.2 1.41-.59l7.78-7.78 2.81-2.81c.8-.78.8-2.07 0-2.86zM5.41 20L4 18.59l7.72-7.72 1.47 1.35L5.41 20z\"/>\n",
              "  </svg>\n",
              "      </button>\n",
              "      \n",
              "  <style>\n",
              "    .colab-df-container {\n",
              "      display:flex;\n",
              "      flex-wrap:wrap;\n",
              "      gap: 12px;\n",
              "    }\n",
              "\n",
              "    .colab-df-convert {\n",
              "      background-color: #E8F0FE;\n",
              "      border: none;\n",
              "      border-radius: 50%;\n",
              "      cursor: pointer;\n",
              "      display: none;\n",
              "      fill: #1967D2;\n",
              "      height: 32px;\n",
              "      padding: 0 0 0 0;\n",
              "      width: 32px;\n",
              "    }\n",
              "\n",
              "    .colab-df-convert:hover {\n",
              "      background-color: #E2EBFA;\n",
              "      box-shadow: 0px 1px 2px rgba(60, 64, 67, 0.3), 0px 1px 3px 1px rgba(60, 64, 67, 0.15);\n",
              "      fill: #174EA6;\n",
              "    }\n",
              "\n",
              "    [theme=dark] .colab-df-convert {\n",
              "      background-color: #3B4455;\n",
              "      fill: #D2E3FC;\n",
              "    }\n",
              "\n",
              "    [theme=dark] .colab-df-convert:hover {\n",
              "      background-color: #434B5C;\n",
              "      box-shadow: 0px 1px 3px 1px rgba(0, 0, 0, 0.15);\n",
              "      filter: drop-shadow(0px 1px 2px rgba(0, 0, 0, 0.3));\n",
              "      fill: #FFFFFF;\n",
              "    }\n",
              "  </style>\n",
              "\n",
              "      <script>\n",
              "        const buttonEl =\n",
              "          document.querySelector('#df-77987721-3998-4c6c-997b-074e6934e8b9 button.colab-df-convert');\n",
              "        buttonEl.style.display =\n",
              "          google.colab.kernel.accessAllowed ? 'block' : 'none';\n",
              "\n",
              "        async function convertToInteractive(key) {\n",
              "          const element = document.querySelector('#df-77987721-3998-4c6c-997b-074e6934e8b9');\n",
              "          const dataTable =\n",
              "            await google.colab.kernel.invokeFunction('convertToInteractive',\n",
              "                                                     [key], {});\n",
              "          if (!dataTable) return;\n",
              "\n",
              "          const docLinkHtml = 'Like what you see? Visit the ' +\n",
              "            '<a target=\"_blank\" href=https://colab.research.google.com/notebooks/data_table.ipynb>data table notebook</a>'\n",
              "            + ' to learn more about interactive tables.';\n",
              "          element.innerHTML = '';\n",
              "          dataTable['output_type'] = 'display_data';\n",
              "          await google.colab.output.renderOutput(dataTable, element);\n",
              "          const docLink = document.createElement('div');\n",
              "          docLink.innerHTML = docLinkHtml;\n",
              "          element.appendChild(docLink);\n",
              "        }\n",
              "      </script>\n",
              "    </div>\n",
              "  </div>\n",
              "  "
            ]
          },
          "metadata": {},
          "execution_count": 2
        }
      ]
    },
    {
      "cell_type": "markdown",
      "source": [
        "Then I use table joins to enumerate any column with strings (objects)"
      ],
      "metadata": {
        "id": "6Tpg1ik2lkfM"
      }
    },
    {
      "cell_type": "code",
      "source": [
        "#using inner table joins, enumerate the columns that use strings. This will add the enumerated columns\n",
        "df = pd.merge(df,gender,how = \"inner\",on=\"gender\")\n",
        "df = pd.merge(df,married,how = \"inner\",on=\"ever_married\")\n",
        "df = pd.merge(df,residence, how =\"inner\",on=\"Residence_type\")\n",
        "df = pd.merge(df,smoked,how = \"inner\", on=\"smoking_status\")\n",
        "df = pd.merge(df,work,how = \"inner\",on=\"work_type\")\n",
        "\n",
        "\n",
        "#leave only enumerated columns, original ones are not important anymore\n",
        "df.drop(columns=['gender', \"ever_married\", \"Residence_type\", \"smoking_status\", \"work_type\"], inplace=True)\n",
        "\n",
        "#check to make sure everything looks right\n",
        "df.head()\n"
      ],
      "metadata": {
        "colab": {
          "base_uri": "https://localhost:8080/",
          "height": 206
        },
        "id": "9yPdPnpNIo6J",
        "outputId": "08624dae-33fa-4ffb-9a36-db6ac9326811"
      },
      "execution_count": 3,
      "outputs": [
        {
          "output_type": "execute_result",
          "data": {
            "text/plain": [
              "    age  hypertension  heart_disease  avg_glucose_level   bmi  stroke  \\\n",
              "0  67.0             0              1             228.69  36.6       1   \n",
              "1  81.0             0              0             186.21  29.0       1   \n",
              "2  71.0             0              0             102.87  27.2       1   \n",
              "3  78.0             1              0              75.32   NaN       1   \n",
              "4  78.0             0              0             237.75   NaN       1   \n",
              "\n",
              "   gender_value  maried_value  residence_value  smoking_value  work_value  \n",
              "0           1.0           2.0              1.0            2.0         1.0  \n",
              "1           1.0           2.0              1.0            2.0         1.0  \n",
              "2           1.0           2.0              1.0            2.0         1.0  \n",
              "3           1.0           2.0              1.0            2.0         1.0  \n",
              "4           1.0           2.0              1.0            2.0         1.0  "
            ],
            "text/html": [
              "\n",
              "  <div id=\"df-bbcb156e-234e-49f8-b5c3-5c7aaaf75d03\">\n",
              "    <div class=\"colab-df-container\">\n",
              "      <div>\n",
              "<style scoped>\n",
              "    .dataframe tbody tr th:only-of-type {\n",
              "        vertical-align: middle;\n",
              "    }\n",
              "\n",
              "    .dataframe tbody tr th {\n",
              "        vertical-align: top;\n",
              "    }\n",
              "\n",
              "    .dataframe thead th {\n",
              "        text-align: right;\n",
              "    }\n",
              "</style>\n",
              "<table border=\"1\" class=\"dataframe\">\n",
              "  <thead>\n",
              "    <tr style=\"text-align: right;\">\n",
              "      <th></th>\n",
              "      <th>age</th>\n",
              "      <th>hypertension</th>\n",
              "      <th>heart_disease</th>\n",
              "      <th>avg_glucose_level</th>\n",
              "      <th>bmi</th>\n",
              "      <th>stroke</th>\n",
              "      <th>gender_value</th>\n",
              "      <th>maried_value</th>\n",
              "      <th>residence_value</th>\n",
              "      <th>smoking_value</th>\n",
              "      <th>work_value</th>\n",
              "    </tr>\n",
              "  </thead>\n",
              "  <tbody>\n",
              "    <tr>\n",
              "      <th>0</th>\n",
              "      <td>67.0</td>\n",
              "      <td>0</td>\n",
              "      <td>1</td>\n",
              "      <td>228.69</td>\n",
              "      <td>36.6</td>\n",
              "      <td>1</td>\n",
              "      <td>1.0</td>\n",
              "      <td>2.0</td>\n",
              "      <td>1.0</td>\n",
              "      <td>2.0</td>\n",
              "      <td>1.0</td>\n",
              "    </tr>\n",
              "    <tr>\n",
              "      <th>1</th>\n",
              "      <td>81.0</td>\n",
              "      <td>0</td>\n",
              "      <td>0</td>\n",
              "      <td>186.21</td>\n",
              "      <td>29.0</td>\n",
              "      <td>1</td>\n",
              "      <td>1.0</td>\n",
              "      <td>2.0</td>\n",
              "      <td>1.0</td>\n",
              "      <td>2.0</td>\n",
              "      <td>1.0</td>\n",
              "    </tr>\n",
              "    <tr>\n",
              "      <th>2</th>\n",
              "      <td>71.0</td>\n",
              "      <td>0</td>\n",
              "      <td>0</td>\n",
              "      <td>102.87</td>\n",
              "      <td>27.2</td>\n",
              "      <td>1</td>\n",
              "      <td>1.0</td>\n",
              "      <td>2.0</td>\n",
              "      <td>1.0</td>\n",
              "      <td>2.0</td>\n",
              "      <td>1.0</td>\n",
              "    </tr>\n",
              "    <tr>\n",
              "      <th>3</th>\n",
              "      <td>78.0</td>\n",
              "      <td>1</td>\n",
              "      <td>0</td>\n",
              "      <td>75.32</td>\n",
              "      <td>NaN</td>\n",
              "      <td>1</td>\n",
              "      <td>1.0</td>\n",
              "      <td>2.0</td>\n",
              "      <td>1.0</td>\n",
              "      <td>2.0</td>\n",
              "      <td>1.0</td>\n",
              "    </tr>\n",
              "    <tr>\n",
              "      <th>4</th>\n",
              "      <td>78.0</td>\n",
              "      <td>0</td>\n",
              "      <td>0</td>\n",
              "      <td>237.75</td>\n",
              "      <td>NaN</td>\n",
              "      <td>1</td>\n",
              "      <td>1.0</td>\n",
              "      <td>2.0</td>\n",
              "      <td>1.0</td>\n",
              "      <td>2.0</td>\n",
              "      <td>1.0</td>\n",
              "    </tr>\n",
              "  </tbody>\n",
              "</table>\n",
              "</div>\n",
              "      <button class=\"colab-df-convert\" onclick=\"convertToInteractive('df-bbcb156e-234e-49f8-b5c3-5c7aaaf75d03')\"\n",
              "              title=\"Convert this dataframe to an interactive table.\"\n",
              "              style=\"display:none;\">\n",
              "        \n",
              "  <svg xmlns=\"http://www.w3.org/2000/svg\" height=\"24px\"viewBox=\"0 0 24 24\"\n",
              "       width=\"24px\">\n",
              "    <path d=\"M0 0h24v24H0V0z\" fill=\"none\"/>\n",
              "    <path d=\"M18.56 5.44l.94 2.06.94-2.06 2.06-.94-2.06-.94-.94-2.06-.94 2.06-2.06.94zm-11 1L8.5 8.5l.94-2.06 2.06-.94-2.06-.94L8.5 2.5l-.94 2.06-2.06.94zm10 10l.94 2.06.94-2.06 2.06-.94-2.06-.94-.94-2.06-.94 2.06-2.06.94z\"/><path d=\"M17.41 7.96l-1.37-1.37c-.4-.4-.92-.59-1.43-.59-.52 0-1.04.2-1.43.59L10.3 9.45l-7.72 7.72c-.78.78-.78 2.05 0 2.83L4 21.41c.39.39.9.59 1.41.59.51 0 1.02-.2 1.41-.59l7.78-7.78 2.81-2.81c.8-.78.8-2.07 0-2.86zM5.41 20L4 18.59l7.72-7.72 1.47 1.35L5.41 20z\"/>\n",
              "  </svg>\n",
              "      </button>\n",
              "      \n",
              "  <style>\n",
              "    .colab-df-container {\n",
              "      display:flex;\n",
              "      flex-wrap:wrap;\n",
              "      gap: 12px;\n",
              "    }\n",
              "\n",
              "    .colab-df-convert {\n",
              "      background-color: #E8F0FE;\n",
              "      border: none;\n",
              "      border-radius: 50%;\n",
              "      cursor: pointer;\n",
              "      display: none;\n",
              "      fill: #1967D2;\n",
              "      height: 32px;\n",
              "      padding: 0 0 0 0;\n",
              "      width: 32px;\n",
              "    }\n",
              "\n",
              "    .colab-df-convert:hover {\n",
              "      background-color: #E2EBFA;\n",
              "      box-shadow: 0px 1px 2px rgba(60, 64, 67, 0.3), 0px 1px 3px 1px rgba(60, 64, 67, 0.15);\n",
              "      fill: #174EA6;\n",
              "    }\n",
              "\n",
              "    [theme=dark] .colab-df-convert {\n",
              "      background-color: #3B4455;\n",
              "      fill: #D2E3FC;\n",
              "    }\n",
              "\n",
              "    [theme=dark] .colab-df-convert:hover {\n",
              "      background-color: #434B5C;\n",
              "      box-shadow: 0px 1px 3px 1px rgba(0, 0, 0, 0.15);\n",
              "      filter: drop-shadow(0px 1px 2px rgba(0, 0, 0, 0.3));\n",
              "      fill: #FFFFFF;\n",
              "    }\n",
              "  </style>\n",
              "\n",
              "      <script>\n",
              "        const buttonEl =\n",
              "          document.querySelector('#df-bbcb156e-234e-49f8-b5c3-5c7aaaf75d03 button.colab-df-convert');\n",
              "        buttonEl.style.display =\n",
              "          google.colab.kernel.accessAllowed ? 'block' : 'none';\n",
              "\n",
              "        async function convertToInteractive(key) {\n",
              "          const element = document.querySelector('#df-bbcb156e-234e-49f8-b5c3-5c7aaaf75d03');\n",
              "          const dataTable =\n",
              "            await google.colab.kernel.invokeFunction('convertToInteractive',\n",
              "                                                     [key], {});\n",
              "          if (!dataTable) return;\n",
              "\n",
              "          const docLinkHtml = 'Like what you see? Visit the ' +\n",
              "            '<a target=\"_blank\" href=https://colab.research.google.com/notebooks/data_table.ipynb>data table notebook</a>'\n",
              "            + ' to learn more about interactive tables.';\n",
              "          element.innerHTML = '';\n",
              "          dataTable['output_type'] = 'display_data';\n",
              "          await google.colab.output.renderOutput(dataTable, element);\n",
              "          const docLink = document.createElement('div');\n",
              "          docLink.innerHTML = docLinkHtml;\n",
              "          element.appendChild(docLink);\n",
              "        }\n",
              "      </script>\n",
              "    </div>\n",
              "  </div>\n",
              "  "
            ]
          },
          "metadata": {},
          "execution_count": 3
        }
      ]
    },
    {
      "cell_type": "code",
      "source": [
        "#verifty every column is an number\n",
        "print(df.dtypes)"
      ],
      "metadata": {
        "colab": {
          "base_uri": "https://localhost:8080/"
        },
        "id": "LrilbYm_ZZ3G",
        "outputId": "dfc3d19a-3e1c-4bbb-ea9d-efcb5427d0b6"
      },
      "execution_count": 4,
      "outputs": [
        {
          "output_type": "stream",
          "name": "stdout",
          "text": [
            "age                  float64\n",
            "hypertension           int64\n",
            "heart_disease          int64\n",
            "avg_glucose_level    float64\n",
            "bmi                  float64\n",
            "stroke                 int64\n",
            "gender_value         float64\n",
            "maried_value         float64\n",
            "residence_value      float64\n",
            "smoking_value        float64\n",
            "work_value           float64\n",
            "dtype: object\n"
          ]
        }
      ]
    },
    {
      "cell_type": "markdown",
      "source": [
        "## **Exploratory Data Analysis**\n",
        "\n",
        "Graphing the target feature and the features with missing data to check for biases.\n",
        "<br><br>\n",
        "#### **Null and Duplicated Values**\n",
        "Shows amount of NaN's in the bmi column.\n",
        "\n",
        "\n"
      ],
      "metadata": {
        "id": "C7oySyjumFI5"
      }
    },
    {
      "cell_type": "code",
      "source": [
        "# amount of usuable data in the bmi \n",
        "hf = df.loc[np.isnan(df['bmi'])]\n",
        "print(len(hf.index))"
      ],
      "metadata": {
        "colab": {
          "base_uri": "https://localhost:8080/"
        },
        "id": "jQwGLINtOoAj",
        "outputId": "a100ea4f-773b-44b3-bb0b-caac3a8b5c0c"
      },
      "execution_count": 5,
      "outputs": [
        {
          "output_type": "stream",
          "name": "stdout",
          "text": [
            "201\n"
          ]
        }
      ]
    },
    {
      "cell_type": "markdown",
      "source": [
        "Shows the amount of unuseable data in the smoking column."
      ],
      "metadata": {
        "id": "GnhHEDANnbKv"
      }
    },
    {
      "cell_type": "code",
      "source": [
        "# a smoking value of 1 means it was unknown if the person smoked or not, this is not very helpful to us.\n",
        "hf = df.loc[df['smoking_value'] == 1]\n",
        "print(len(hf.index))"
      ],
      "metadata": {
        "colab": {
          "base_uri": "https://localhost:8080/"
        },
        "id": "fzLITwwPnlHX",
        "outputId": "ab24c0e7-7ea2-4718-c68c-8e0e03e6810d"
      },
      "execution_count": 6,
      "outputs": [
        {
          "output_type": "stream",
          "name": "stdout",
          "text": [
            "1544\n"
          ]
        }
      ]
    },
    {
      "cell_type": "markdown",
      "source": [
        "Shows the amount of time that for the same row the bmi and smoking value is missing\n"
      ],
      "metadata": {
        "id": "5iia3mF5obAv"
      }
    },
    {
      "cell_type": "code",
      "source": [
        "hf = hf.loc[np.isnan(hf['bmi'])]\n",
        "print(len(hf.index))"
      ],
      "metadata": {
        "colab": {
          "base_uri": "https://localhost:8080/"
        },
        "id": "JDgPEwOAoj6_",
        "outputId": "99bfe5da-e3b7-469d-e943-58b88192f329"
      },
      "execution_count": 7,
      "outputs": [
        {
          "output_type": "stream",
          "name": "stdout",
          "text": [
            "61\n"
          ]
        }
      ]
    },
    {
      "cell_type": "markdown",
      "source": [
        "This means that the number of unique rows with missing data is 201 + 1544 - 64 = 1681 rows. This would be very bad to delete because the dataset is only around 5000 rows."
      ],
      "metadata": {
        "id": "qco6b7-yoy6G"
      }
    },
    {
      "cell_type": "code",
      "source": [
        "#Checking for NaNs in each column, this does not include the unusable data in smoking (\"Unknown = 1\")\n",
        "df.isna().sum()"
      ],
      "metadata": {
        "colab": {
          "base_uri": "https://localhost:8080/"
        },
        "id": "22L2BlPzZmgJ",
        "outputId": "88f3b15b-b9fb-41fc-b14f-3d63b9c1a3aa"
      },
      "execution_count": 8,
      "outputs": [
        {
          "output_type": "execute_result",
          "data": {
            "text/plain": [
              "age                    0\n",
              "hypertension           0\n",
              "heart_disease          0\n",
              "avg_glucose_level      0\n",
              "bmi                  201\n",
              "stroke                 0\n",
              "gender_value           0\n",
              "maried_value           0\n",
              "residence_value        0\n",
              "smoking_value          0\n",
              "work_value             0\n",
              "dtype: int64"
            ]
          },
          "metadata": {},
          "execution_count": 8
        }
      ]
    },
    {
      "cell_type": "markdown",
      "source": [
        "Shows the number of rows that are identical"
      ],
      "metadata": {
        "id": "tv705qvFpKZ5"
      }
    },
    {
      "cell_type": "code",
      "source": [
        "print(df.duplicated().sum())\n",
        "\n"
      ],
      "metadata": {
        "colab": {
          "base_uri": "https://localhost:8080/"
        },
        "id": "zcGot5nSZ7GX",
        "outputId": "0eb761f9-bd5b-4f1a-caac-e86a65804281"
      },
      "execution_count": 9,
      "outputs": [
        {
          "output_type": "stream",
          "name": "stdout",
          "text": [
            "0\n"
          ]
        }
      ]
    },
    {
      "cell_type": "markdown",
      "source": [
        "#### **Features with Missing Data**\n",
        "\n",
        "These show the boxplots for the two columns with missing data."
      ],
      "metadata": {
        "id": "An0aUjQgpWkX"
      }
    },
    {
      "cell_type": "code",
      "source": [
        "plot = df.boxplot(column=['bmi'])\n"
      ],
      "metadata": {
        "colab": {
          "base_uri": "https://localhost:8080/",
          "height": 265
        },
        "id": "kse7NfRpplTh",
        "outputId": "70bbab58-6232-45dd-c139-f4d891811b6b"
      },
      "execution_count": 10,
      "outputs": [
        {
          "output_type": "display_data",
          "data": {
            "text/plain": [
              "<Figure size 432x288 with 1 Axes>"
            ],
            "image/png": "[encoded data removed]"
          },
          "metadata": {
            "needs_background": "light"
          }
        }
      ]
    },
    {
      "cell_type": "markdown",
      "source": [
        "We can see numerous outliers in one direction, thus the data is skewed."
      ],
      "metadata": {
        "id": "mFHxnQFPpyJ-"
      }
    },
    {
      "cell_type": "code",
      "source": [
        "plot = df.hist(column=['smoking_value'])\n"
      ],
      "metadata": {
        "colab": {
          "base_uri": "https://localhost:8080/",
          "height": 281
        },
        "id": "VQElfG3Vp8ee",
        "outputId": "0614d178-0d86-4aad-e15e-e9013c6042b0"
      },
      "execution_count": 11,
      "outputs": [
        {
          "output_type": "display_data",
          "data": {
            "text/plain": [
              "<Figure size 432x288 with 1 Axes>"
            ],
            "image/png": "[encoded data removed]"
          },
          "metadata": {
            "needs_background": "light"
          }
        }
      ]
    },
    {
      "cell_type": "markdown",
      "source": [
        "This histogram also shows that the smoking column is also somewhat skewed."
      ],
      "metadata": {
        "id": "hM-LmS9uqekk"
      }
    },
    {
      "cell_type": "markdown",
      "source": [
        "#### **Target Feature**\n",
        "\n",
        "Graphing the target feature for this analysis."
      ],
      "metadata": {
        "id": "L1KVm8ekq0GP"
      }
    },
    {
      "cell_type": "code",
      "source": [
        "plot = df.hist(column=['stroke'])"
      ],
      "metadata": {
        "colab": {
          "base_uri": "https://localhost:8080/",
          "height": 281
        },
        "id": "bTY00GWNq6L-",
        "outputId": "2a3192a0-cdde-424f-dd16-5f676204a66e"
      },
      "execution_count": 12,
      "outputs": [
        {
          "output_type": "display_data",
          "data": {
            "text/plain": [
              "<Figure size 432x288 with 1 Axes>"
            ],
            "image/png": "[encoded data removed]"
          },
          "metadata": {
            "needs_background": "light"
          }
        }
      ]
    },
    {
      "cell_type": "markdown",
      "source": [
        "The target feature is very skewed. This makes sense though as it is much easier to find people who have not had a stroke."
      ],
      "metadata": {
        "id": "FuauTToWrljS"
      }
    },
    {
      "cell_type": "code",
      "source": [
        "hf = df.loc[np.isnan(df['bmi'])]\n",
        "hf.hist(column='stroke')\n"
      ],
      "metadata": {
        "colab": {
          "base_uri": "https://localhost:8080/",
          "height": 317
        },
        "id": "BmINiFYBr6_x",
        "outputId": "af690576-5707-4070-a31e-1fbc4902d346"
      },
      "execution_count": 13,
      "outputs": [
        {
          "output_type": "execute_result",
          "data": {
            "text/plain": [
              "array([[<matplotlib.axes._subplots.AxesSubplot object at 0x7fef1b9f1cd0>]],\n",
              "      dtype=object)"
            ]
          },
          "metadata": {},
          "execution_count": 13
        },
        {
          "output_type": "display_data",
          "data": {
            "text/plain": [
              "<Figure size 432x288 with 1 Axes>"
            ],
            "image/png": "[encoded data removed]"
          },
          "metadata": {
            "needs_background": "light"
          }
        }
      ]
    },
    {
      "cell_type": "markdown",
      "source": [
        "This is a graph of the distribution of missing values for the bmi column. Of course much more of the missing data is going to come from people who have not had a stroke because thats who the majority of the sample was. But, looking at the data in terms of a percentage of people sampled, the missing values seem to be random.\n",
        "\n"
      ],
      "metadata": {
        "id": "UIhWaC4wsFxT"
      }
    },
    {
      "cell_type": "code",
      "source": [
        "hf = df.loc[df['smoking_value'] == 1]\n",
        "hf.hist(column='stroke')"
      ],
      "metadata": {
        "colab": {
          "base_uri": "https://localhost:8080/",
          "height": 317
        },
        "id": "GC9ZbxF6sto8",
        "outputId": "8e28facc-6db1-4322-e6a9-0e6fd2f5298d"
      },
      "execution_count": 14,
      "outputs": [
        {
          "output_type": "execute_result",
          "data": {
            "text/plain": [
              "array([[<matplotlib.axes._subplots.AxesSubplot object at 0x7fef1b9b2a60>]],\n",
              "      dtype=object)"
            ]
          },
          "metadata": {},
          "execution_count": 14
        },
        {
          "output_type": "display_data",
          "data": {
            "text/plain": [
              "<Figure size 432x288 with 1 Axes>"
            ],
            "image/png": "[encoded data removed]"
          },
          "metadata": {
            "needs_background": "light"
          }
        }
      ]
    },
    {
      "cell_type": "markdown",
      "source": [
        "This is a graph of the distribution of missing values for the bmi column. The distribution of missing values is mostly random for the same explanation as above."
      ],
      "metadata": {
        "id": "0Iwq8YC0s4k-"
      }
    },
    {
      "cell_type": "markdown",
      "source": [
        "##**Feature Engineering**"
      ],
      "metadata": {
        "id": "M3IUv56LC9tO"
      }
    },
    {
      "cell_type": "code",
      "source": [
        "df.head()"
      ],
      "metadata": {
        "colab": {
          "base_uri": "https://localhost:8080/",
          "height": 206
        },
        "id": "m3XJ9NZjY2O7",
        "outputId": "fe2588fd-d06a-4ac3-f654-c836daf75cf9"
      },
      "execution_count": 15,
      "outputs": [
        {
          "output_type": "execute_result",
          "data": {
            "text/plain": [
              "    age  hypertension  heart_disease  avg_glucose_level   bmi  stroke  \\\n",
              "0  67.0             0              1             228.69  36.6       1   \n",
              "1  81.0             0              0             186.21  29.0       1   \n",
              "2  71.0             0              0             102.87  27.2       1   \n",
              "3  78.0             1              0              75.32   NaN       1   \n",
              "4  78.0             0              0             237.75   NaN       1   \n",
              "\n",
              "   gender_value  maried_value  residence_value  smoking_value  work_value  \n",
              "0           1.0           2.0              1.0            2.0         1.0  \n",
              "1           1.0           2.0              1.0            2.0         1.0  \n",
              "2           1.0           2.0              1.0            2.0         1.0  \n",
              "3           1.0           2.0              1.0            2.0         1.0  \n",
              "4           1.0           2.0              1.0            2.0         1.0  "
            ],
            "text/html": [
              "\n",
              "  <div id=\"df-5042ba5c-0483-416d-82c5-6605bd575a23\">\n",
              "    <div class=\"colab-df-container\">\n",
              "      <div>\n",
              "<style scoped>\n",
              "    .dataframe tbody tr th:only-of-type {\n",
              "        vertical-align: middle;\n",
              "    }\n",
              "\n",
              "    .dataframe tbody tr th {\n",
              "        vertical-align: top;\n",
              "    }\n",
              "\n",
              "    .dataframe thead th {\n",
              "        text-align: right;\n",
              "    }\n",
              "</style>\n",
              "<table border=\"1\" class=\"dataframe\">\n",
              "  <thead>\n",
              "    <tr style=\"text-align: right;\">\n",
              "      <th></th>\n",
              "      <th>age</th>\n",
              "      <th>hypertension</th>\n",
              "      <th>heart_disease</th>\n",
              "      <th>avg_glucose_level</th>\n",
              "      <th>bmi</th>\n",
              "      <th>stroke</th>\n",
              "      <th>gender_value</th>\n",
              "      <th>maried_value</th>\n",
              "      <th>residence_value</th>\n",
              "      <th>smoking_value</th>\n",
              "      <th>work_value</th>\n",
              "    </tr>\n",
              "  </thead>\n",
              "  <tbody>\n",
              "    <tr>\n",
              "      <th>0</th>\n",
              "      <td>67.0</td>\n",
              "      <td>0</td>\n",
              "      <td>1</td>\n",
              "      <td>228.69</td>\n",
              "      <td>36.6</td>\n",
              "      <td>1</td>\n",
              "      <td>1.0</td>\n",
              "      <td>2.0</td>\n",
              "      <td>1.0</td>\n",
              "      <td>2.0</td>\n",
              "      <td>1.0</td>\n",
              "    </tr>\n",
              "    <tr>\n",
              "      <th>1</th>\n",
              "      <td>81.0</td>\n",
              "      <td>0</td>\n",
              "      <td>0</td>\n",
              "      <td>186.21</td>\n",
              "      <td>29.0</td>\n",
              "      <td>1</td>\n",
              "      <td>1.0</td>\n",
              "      <td>2.0</td>\n",
              "      <td>1.0</td>\n",
              "      <td>2.0</td>\n",
              "      <td>1.0</td>\n",
              "    </tr>\n",
              "    <tr>\n",
              "      <th>2</th>\n",
              "      <td>71.0</td>\n",
              "      <td>0</td>\n",
              "      <td>0</td>\n",
              "      <td>102.87</td>\n",
              "      <td>27.2</td>\n",
              "      <td>1</td>\n",
              "      <td>1.0</td>\n",
              "      <td>2.0</td>\n",
              "      <td>1.0</td>\n",
              "      <td>2.0</td>\n",
              "      <td>1.0</td>\n",
              "    </tr>\n",
              "    <tr>\n",
              "      <th>3</th>\n",
              "      <td>78.0</td>\n",
              "      <td>1</td>\n",
              "      <td>0</td>\n",
              "      <td>75.32</td>\n",
              "      <td>NaN</td>\n",
              "      <td>1</td>\n",
              "      <td>1.0</td>\n",
              "      <td>2.0</td>\n",
              "      <td>1.0</td>\n",
              "      <td>2.0</td>\n",
              "      <td>1.0</td>\n",
              "    </tr>\n",
              "    <tr>\n",
              "      <th>4</th>\n",
              "      <td>78.0</td>\n",
              "      <td>0</td>\n",
              "      <td>0</td>\n",
              "      <td>237.75</td>\n",
              "      <td>NaN</td>\n",
              "      <td>1</td>\n",
              "      <td>1.0</td>\n",
              "      <td>2.0</td>\n",
              "      <td>1.0</td>\n",
              "      <td>2.0</td>\n",
              "      <td>1.0</td>\n",
              "    </tr>\n",
              "  </tbody>\n",
              "</table>\n",
              "</div>\n",
              "      <button class=\"colab-df-convert\" onclick=\"convertToInteractive('df-5042ba5c-0483-416d-82c5-6605bd575a23')\"\n",
              "              title=\"Convert this dataframe to an interactive table.\"\n",
              "              style=\"display:none;\">\n",
              "        \n",
              "  <svg xmlns=\"http://www.w3.org/2000/svg\" height=\"24px\"viewBox=\"0 0 24 24\"\n",
              "       width=\"24px\">\n",
              "    <path d=\"M0 0h24v24H0V0z\" fill=\"none\"/>\n",
              "    <path d=\"M18.56 5.44l.94 2.06.94-2.06 2.06-.94-2.06-.94-.94-2.06-.94 2.06-2.06.94zm-11 1L8.5 8.5l.94-2.06 2.06-.94-2.06-.94L8.5 2.5l-.94 2.06-2.06.94zm10 10l.94 2.06.94-2.06 2.06-.94-2.06-.94-.94-2.06-.94 2.06-2.06.94z\"/><path d=\"M17.41 7.96l-1.37-1.37c-.4-.4-.92-.59-1.43-.59-.52 0-1.04.2-1.43.59L10.3 9.45l-7.72 7.72c-.78.78-.78 2.05 0 2.83L4 21.41c.39.39.9.59 1.41.59.51 0 1.02-.2 1.41-.59l7.78-7.78 2.81-2.81c.8-.78.8-2.07 0-2.86zM5.41 20L4 18.59l7.72-7.72 1.47 1.35L5.41 20z\"/>\n",
              "  </svg>\n",
              "      </button>\n",
              "      \n",
              "  <style>\n",
              "    .colab-df-container {\n",
              "      display:flex;\n",
              "      flex-wrap:wrap;\n",
              "      gap: 12px;\n",
              "    }\n",
              "\n",
              "    .colab-df-convert {\n",
              "      background-color: #E8F0FE;\n",
              "      border: none;\n",
              "      border-radius: 50%;\n",
              "      cursor: pointer;\n",
              "      display: none;\n",
              "      fill: #1967D2;\n",
              "      height: 32px;\n",
              "      padding: 0 0 0 0;\n",
              "      width: 32px;\n",
              "    }\n",
              "\n",
              "    .colab-df-convert:hover {\n",
              "      background-color: #E2EBFA;\n",
              "      box-shadow: 0px 1px 2px rgba(60, 64, 67, 0.3), 0px 1px 3px 1px rgba(60, 64, 67, 0.15);\n",
              "      fill: #174EA6;\n",
              "    }\n",
              "\n",
              "    [theme=dark] .colab-df-convert {\n",
              "      background-color: #3B4455;\n",
              "      fill: #D2E3FC;\n",
              "    }\n",
              "\n",
              "    [theme=dark] .colab-df-convert:hover {\n",
              "      background-color: #434B5C;\n",
              "      box-shadow: 0px 1px 3px 1px rgba(0, 0, 0, 0.15);\n",
              "      filter: drop-shadow(0px 1px 2px rgba(0, 0, 0, 0.3));\n",
              "      fill: #FFFFFF;\n",
              "    }\n",
              "  </style>\n",
              "\n",
              "      <script>\n",
              "        const buttonEl =\n",
              "          document.querySelector('#df-5042ba5c-0483-416d-82c5-6605bd575a23 button.colab-df-convert');\n",
              "        buttonEl.style.display =\n",
              "          google.colab.kernel.accessAllowed ? 'block' : 'none';\n",
              "\n",
              "        async function convertToInteractive(key) {\n",
              "          const element = document.querySelector('#df-5042ba5c-0483-416d-82c5-6605bd575a23');\n",
              "          const dataTable =\n",
              "            await google.colab.kernel.invokeFunction('convertToInteractive',\n",
              "                                                     [key], {});\n",
              "          if (!dataTable) return;\n",
              "\n",
              "          const docLinkHtml = 'Like what you see? Visit the ' +\n",
              "            '<a target=\"_blank\" href=https://colab.research.google.com/notebooks/data_table.ipynb>data table notebook</a>'\n",
              "            + ' to learn more about interactive tables.';\n",
              "          element.innerHTML = '';\n",
              "          dataTable['output_type'] = 'display_data';\n",
              "          await google.colab.output.renderOutput(dataTable, element);\n",
              "          const docLink = document.createElement('div');\n",
              "          docLink.innerHTML = docLinkHtml;\n",
              "          element.appendChild(docLink);\n",
              "        }\n",
              "      </script>\n",
              "    </div>\n",
              "  </div>\n",
              "  "
            ]
          },
          "metadata": {},
          "execution_count": 15
        }
      ]
    },
    {
      "cell_type": "markdown",
      "source": [
        "In the Exploratory Data Analysis section the graphs show that the data is missing at random. \n",
        "\n",
        "Since it is MAR, I wanted to use either the mean, median, or mode. As the data is skewed, (Exploratory Data Analysis) and is all numerical, I decided to use the median for imputation."
      ],
      "metadata": {
        "id": "22E8_e3AX8ud"
      }
    },
    {
      "cell_type": "code",
      "source": [
        "#replaces every NaN with the median\n",
        "df['bmi'] = df['bmi'].replace(np.nan, df['bmi'].median())\n",
        "#replaces every value equal to one (unknown smoking status) with the median\n",
        "df['smoking_value'] = df['smoking_value'].apply(lambda x: df['smoking_value'].median() if x == 1.0 else x)\n",
        "#verify NaN's turned into a number\n",
        "df.head()\n"
      ],
      "metadata": {
        "colab": {
          "base_uri": "https://localhost:8080/",
          "height": 206
        },
        "id": "Mt0OF4AlYc9d",
        "outputId": "2854f29a-d0f5-4fb8-a314-19174a63867b"
      },
      "execution_count": 16,
      "outputs": [
        {
          "output_type": "execute_result",
          "data": {
            "text/plain": [
              "    age  hypertension  heart_disease  avg_glucose_level   bmi  stroke  \\\n",
              "0  67.0             0              1             228.69  36.6       1   \n",
              "1  81.0             0              0             186.21  29.0       1   \n",
              "2  71.0             0              0             102.87  27.2       1   \n",
              "3  78.0             1              0              75.32  28.1       1   \n",
              "4  78.0             0              0             237.75  28.1       1   \n",
              "\n",
              "   gender_value  maried_value  residence_value  smoking_value  work_value  \n",
              "0           1.0           2.0              1.0            2.0         1.0  \n",
              "1           1.0           2.0              1.0            2.0         1.0  \n",
              "2           1.0           2.0              1.0            2.0         1.0  \n",
              "3           1.0           2.0              1.0            2.0         1.0  \n",
              "4           1.0           2.0              1.0            2.0         1.0  "
            ],
            "text/html": [
              "\n",
              "  <div id=\"df-cbdeba97-3b15-4201-8692-65cbe4e795d8\">\n",
              "    <div class=\"colab-df-container\">\n",
              "      <div>\n",
              "<style scoped>\n",
              "    .dataframe tbody tr th:only-of-type {\n",
              "        vertical-align: middle;\n",
              "    }\n",
              "\n",
              "    .dataframe tbody tr th {\n",
              "        vertical-align: top;\n",
              "    }\n",
              "\n",
              "    .dataframe thead th {\n",
              "        text-align: right;\n",
              "    }\n",
              "</style>\n",
              "<table border=\"1\" class=\"dataframe\">\n",
              "  <thead>\n",
              "    <tr style=\"text-align: right;\">\n",
              "      <th></th>\n",
              "      <th>age</th>\n",
              "      <th>hypertension</th>\n",
              "      <th>heart_disease</th>\n",
              "      <th>avg_glucose_level</th>\n",
              "      <th>bmi</th>\n",
              "      <th>stroke</th>\n",
              "      <th>gender_value</th>\n",
              "      <th>maried_value</th>\n",
              "      <th>residence_value</th>\n",
              "      <th>smoking_value</th>\n",
              "      <th>work_value</th>\n",
              "    </tr>\n",
              "  </thead>\n",
              "  <tbody>\n",
              "    <tr>\n",
              "      <th>0</th>\n",
              "      <td>67.0</td>\n",
              "      <td>0</td>\n",
              "      <td>1</td>\n",
              "      <td>228.69</td>\n",
              "      <td>36.6</td>\n",
              "      <td>1</td>\n",
              "      <td>1.0</td>\n",
              "      <td>2.0</td>\n",
              "      <td>1.0</td>\n",
              "      <td>2.0</td>\n",
              "      <td>1.0</td>\n",
              "    </tr>\n",
              "    <tr>\n",
              "      <th>1</th>\n",
              "      <td>81.0</td>\n",
              "      <td>0</td>\n",
              "      <td>0</td>\n",
              "      <td>186.21</td>\n",
              "      <td>29.0</td>\n",
              "      <td>1</td>\n",
              "      <td>1.0</td>\n",
              "      <td>2.0</td>\n",
              "      <td>1.0</td>\n",
              "      <td>2.0</td>\n",
              "      <td>1.0</td>\n",
              "    </tr>\n",
              "    <tr>\n",
              "      <th>2</th>\n",
              "      <td>71.0</td>\n",
              "      <td>0</td>\n",
              "      <td>0</td>\n",
              "      <td>102.87</td>\n",
              "      <td>27.2</td>\n",
              "      <td>1</td>\n",
              "      <td>1.0</td>\n",
              "      <td>2.0</td>\n",
              "      <td>1.0</td>\n",
              "      <td>2.0</td>\n",
              "      <td>1.0</td>\n",
              "    </tr>\n",
              "    <tr>\n",
              "      <th>3</th>\n",
              "      <td>78.0</td>\n",
              "      <td>1</td>\n",
              "      <td>0</td>\n",
              "      <td>75.32</td>\n",
              "      <td>28.1</td>\n",
              "      <td>1</td>\n",
              "      <td>1.0</td>\n",
              "      <td>2.0</td>\n",
              "      <td>1.0</td>\n",
              "      <td>2.0</td>\n",
              "      <td>1.0</td>\n",
              "    </tr>\n",
              "    <tr>\n",
              "      <th>4</th>\n",
              "      <td>78.0</td>\n",
              "      <td>0</td>\n",
              "      <td>0</td>\n",
              "      <td>237.75</td>\n",
              "      <td>28.1</td>\n",
              "      <td>1</td>\n",
              "      <td>1.0</td>\n",
              "      <td>2.0</td>\n",
              "      <td>1.0</td>\n",
              "      <td>2.0</td>\n",
              "      <td>1.0</td>\n",
              "    </tr>\n",
              "  </tbody>\n",
              "</table>\n",
              "</div>\n",
              "      <button class=\"colab-df-convert\" onclick=\"convertToInteractive('df-cbdeba97-3b15-4201-8692-65cbe4e795d8')\"\n",
              "              title=\"Convert this dataframe to an interactive table.\"\n",
              "              style=\"display:none;\">\n",
              "        \n",
              "  <svg xmlns=\"http://www.w3.org/2000/svg\" height=\"24px\"viewBox=\"0 0 24 24\"\n",
              "       width=\"24px\">\n",
              "    <path d=\"M0 0h24v24H0V0z\" fill=\"none\"/>\n",
              "    <path d=\"M18.56 5.44l.94 2.06.94-2.06 2.06-.94-2.06-.94-.94-2.06-.94 2.06-2.06.94zm-11 1L8.5 8.5l.94-2.06 2.06-.94-2.06-.94L8.5 2.5l-.94 2.06-2.06.94zm10 10l.94 2.06.94-2.06 2.06-.94-2.06-.94-.94-2.06-.94 2.06-2.06.94z\"/><path d=\"M17.41 7.96l-1.37-1.37c-.4-.4-.92-.59-1.43-.59-.52 0-1.04.2-1.43.59L10.3 9.45l-7.72 7.72c-.78.78-.78 2.05 0 2.83L4 21.41c.39.39.9.59 1.41.59.51 0 1.02-.2 1.41-.59l7.78-7.78 2.81-2.81c.8-.78.8-2.07 0-2.86zM5.41 20L4 18.59l7.72-7.72 1.47 1.35L5.41 20z\"/>\n",
              "  </svg>\n",
              "      </button>\n",
              "      \n",
              "  <style>\n",
              "    .colab-df-container {\n",
              "      display:flex;\n",
              "      flex-wrap:wrap;\n",
              "      gap: 12px;\n",
              "    }\n",
              "\n",
              "    .colab-df-convert {\n",
              "      background-color: #E8F0FE;\n",
              "      border: none;\n",
              "      border-radius: 50%;\n",
              "      cursor: pointer;\n",
              "      display: none;\n",
              "      fill: #1967D2;\n",
              "      height: 32px;\n",
              "      padding: 0 0 0 0;\n",
              "      width: 32px;\n",
              "    }\n",
              "\n",
              "    .colab-df-convert:hover {\n",
              "      background-color: #E2EBFA;\n",
              "      box-shadow: 0px 1px 2px rgba(60, 64, 67, 0.3), 0px 1px 3px 1px rgba(60, 64, 67, 0.15);\n",
              "      fill: #174EA6;\n",
              "    }\n",
              "\n",
              "    [theme=dark] .colab-df-convert {\n",
              "      background-color: #3B4455;\n",
              "      fill: #D2E3FC;\n",
              "    }\n",
              "\n",
              "    [theme=dark] .colab-df-convert:hover {\n",
              "      background-color: #434B5C;\n",
              "      box-shadow: 0px 1px 3px 1px rgba(0, 0, 0, 0.15);\n",
              "      filter: drop-shadow(0px 1px 2px rgba(0, 0, 0, 0.3));\n",
              "      fill: #FFFFFF;\n",
              "    }\n",
              "  </style>\n",
              "\n",
              "      <script>\n",
              "        const buttonEl =\n",
              "          document.querySelector('#df-cbdeba97-3b15-4201-8692-65cbe4e795d8 button.colab-df-convert');\n",
              "        buttonEl.style.display =\n",
              "          google.colab.kernel.accessAllowed ? 'block' : 'none';\n",
              "\n",
              "        async function convertToInteractive(key) {\n",
              "          const element = document.querySelector('#df-cbdeba97-3b15-4201-8692-65cbe4e795d8');\n",
              "          const dataTable =\n",
              "            await google.colab.kernel.invokeFunction('convertToInteractive',\n",
              "                                                     [key], {});\n",
              "          if (!dataTable) return;\n",
              "\n",
              "          const docLinkHtml = 'Like what you see? Visit the ' +\n",
              "            '<a target=\"_blank\" href=https://colab.research.google.com/notebooks/data_table.ipynb>data table notebook</a>'\n",
              "            + ' to learn more about interactive tables.';\n",
              "          element.innerHTML = '';\n",
              "          dataTable['output_type'] = 'display_data';\n",
              "          await google.colab.output.renderOutput(dataTable, element);\n",
              "          const docLink = document.createElement('div');\n",
              "          docLink.innerHTML = docLinkHtml;\n",
              "          element.appendChild(docLink);\n",
              "        }\n",
              "      </script>\n",
              "    </div>\n",
              "  </div>\n",
              "  "
            ]
          },
          "metadata": {},
          "execution_count": 16
        }
      ]
    },
    {
      "cell_type": "code",
      "source": [
        "#show data after all changes\n",
        "df.describe().transpose()"
      ],
      "metadata": {
        "colab": {
          "base_uri": "https://localhost:8080/",
          "height": 394
        },
        "id": "e9xiiyEoZRgZ",
        "outputId": "5a779aa7-60ec-4626-8462-40946f2b752f"
      },
      "execution_count": 17,
      "outputs": [
        {
          "output_type": "execute_result",
          "data": {
            "text/plain": [
              "                    count        mean        std    min     25%     50%  \\\n",
              "age                5110.0   43.226614  22.612647   0.08  25.000  45.000   \n",
              "hypertension       5110.0    0.097456   0.296607   0.00   0.000   0.000   \n",
              "heart_disease      5110.0    0.054012   0.226063   0.00   0.000   0.000   \n",
              "avg_glucose_level  5110.0  106.147677  45.283560  55.12  77.245  91.885   \n",
              "bmi                5110.0   28.862035   7.699562  10.30  23.800  28.100   \n",
              "stroke             5110.0    0.048728   0.215320   0.00   0.000   0.000   \n",
              "gender_value       5110.0    1.586301   0.492941   1.00   1.000   2.000   \n",
              "maried_value       5110.0    1.656164   0.475034   1.00   1.000   2.000   \n",
              "residence_value    5110.0    1.491977   0.499985   1.00   1.000   1.000   \n",
              "smoking_value      5110.0    1.111742   1.071819   0.00   0.000   1.000   \n",
              "work_value         5110.0    1.832094   1.109924   1.00   1.000   1.000   \n",
              "\n",
              "                      75%     max  \n",
              "age                 61.00   82.00  \n",
              "hypertension         0.00    1.00  \n",
              "heart_disease        0.00    1.00  \n",
              "avg_glucose_level  114.09  271.74  \n",
              "bmi                 32.80   97.60  \n",
              "stroke               0.00    1.00  \n",
              "gender_value         2.00    3.00  \n",
              "maried_value         2.00    2.00  \n",
              "residence_value      2.00    2.00  \n",
              "smoking_value        2.00    3.00  \n",
              "work_value           3.00    5.00  "
            ],
            "text/html": [
              "\n",
              "  <div id=\"df-e356baf2-5910-4d50-a650-ed4e28e2cc16\">\n",
              "    <div class=\"colab-df-container\">\n",
              "      <div>\n",
              "<style scoped>\n",
              "    .dataframe tbody tr th:only-of-type {\n",
              "        vertical-align: middle;\n",
              "    }\n",
              "\n",
              "    .dataframe tbody tr th {\n",
              "        vertical-align: top;\n",
              "    }\n",
              "\n",
              "    .dataframe thead th {\n",
              "        text-align: right;\n",
              "    }\n",
              "</style>\n",
              "<table border=\"1\" class=\"dataframe\">\n",
              "  <thead>\n",
              "    <tr style=\"text-align: right;\">\n",
              "      <th></th>\n",
              "      <th>count</th>\n",
              "      <th>mean</th>\n",
              "      <th>std</th>\n",
              "      <th>min</th>\n",
              "      <th>25%</th>\n",
              "      <th>50%</th>\n",
              "      <th>75%</th>\n",
              "      <th>max</th>\n",
              "    </tr>\n",
              "  </thead>\n",
              "  <tbody>\n",
              "    <tr>\n",
              "      <th>age</th>\n",
              "      <td>5110.0</td>\n",
              "      <td>43.226614</td>\n",
              "      <td>22.612647</td>\n",
              "      <td>0.08</td>\n",
              "      <td>25.000</td>\n",
              "      <td>45.000</td>\n",
              "      <td>61.00</td>\n",
              "      <td>82.00</td>\n",
              "    </tr>\n",
              "    <tr>\n",
              "      <th>hypertension</th>\n",
              "      <td>5110.0</td>\n",
              "      <td>0.097456</td>\n",
              "      <td>0.296607</td>\n",
              "      <td>0.00</td>\n",
              "      <td>0.000</td>\n",
              "      <td>0.000</td>\n",
              "      <td>0.00</td>\n",
              "      <td>1.00</td>\n",
              "    </tr>\n",
              "    <tr>\n",
              "      <th>heart_disease</th>\n",
              "      <td>5110.0</td>\n",
              "      <td>0.054012</td>\n",
              "      <td>0.226063</td>\n",
              "      <td>0.00</td>\n",
              "      <td>0.000</td>\n",
              "      <td>0.000</td>\n",
              "      <td>0.00</td>\n",
              "      <td>1.00</td>\n",
              "    </tr>\n",
              "    <tr>\n",
              "      <th>avg_glucose_level</th>\n",
              "      <td>5110.0</td>\n",
              "      <td>106.147677</td>\n",
              "      <td>45.283560</td>\n",
              "      <td>55.12</td>\n",
              "      <td>77.245</td>\n",
              "      <td>91.885</td>\n",
              "      <td>114.09</td>\n",
              "      <td>271.74</td>\n",
              "    </tr>\n",
              "    <tr>\n",
              "      <th>bmi</th>\n",
              "      <td>5110.0</td>\n",
              "      <td>28.862035</td>\n",
              "      <td>7.699562</td>\n",
              "      <td>10.30</td>\n",
              "      <td>23.800</td>\n",
              "      <td>28.100</td>\n",
              "      <td>32.80</td>\n",
              "      <td>97.60</td>\n",
              "    </tr>\n",
              "    <tr>\n",
              "      <th>stroke</th>\n",
              "      <td>5110.0</td>\n",
              "      <td>0.048728</td>\n",
              "      <td>0.215320</td>\n",
              "      <td>0.00</td>\n",
              "      <td>0.000</td>\n",
              "      <td>0.000</td>\n",
              "      <td>0.00</td>\n",
              "      <td>1.00</td>\n",
              "    </tr>\n",
              "    <tr>\n",
              "      <th>gender_value</th>\n",
              "      <td>5110.0</td>\n",
              "      <td>1.586301</td>\n",
              "      <td>0.492941</td>\n",
              "      <td>1.00</td>\n",
              "      <td>1.000</td>\n",
              "      <td>2.000</td>\n",
              "      <td>2.00</td>\n",
              "      <td>3.00</td>\n",
              "    </tr>\n",
              "    <tr>\n",
              "      <th>maried_value</th>\n",
              "      <td>5110.0</td>\n",
              "      <td>1.656164</td>\n",
              "      <td>0.475034</td>\n",
              "      <td>1.00</td>\n",
              "      <td>1.000</td>\n",
              "      <td>2.000</td>\n",
              "      <td>2.00</td>\n",
              "      <td>2.00</td>\n",
              "    </tr>\n",
              "    <tr>\n",
              "      <th>residence_value</th>\n",
              "      <td>5110.0</td>\n",
              "      <td>1.491977</td>\n",
              "      <td>0.499985</td>\n",
              "      <td>1.00</td>\n",
              "      <td>1.000</td>\n",
              "      <td>1.000</td>\n",
              "      <td>2.00</td>\n",
              "      <td>2.00</td>\n",
              "    </tr>\n",
              "    <tr>\n",
              "      <th>smoking_value</th>\n",
              "      <td>5110.0</td>\n",
              "      <td>1.111742</td>\n",
              "      <td>1.071819</td>\n",
              "      <td>0.00</td>\n",
              "      <td>0.000</td>\n",
              "      <td>1.000</td>\n",
              "      <td>2.00</td>\n",
              "      <td>3.00</td>\n",
              "    </tr>\n",
              "    <tr>\n",
              "      <th>work_value</th>\n",
              "      <td>5110.0</td>\n",
              "      <td>1.832094</td>\n",
              "      <td>1.109924</td>\n",
              "      <td>1.00</td>\n",
              "      <td>1.000</td>\n",
              "      <td>1.000</td>\n",
              "      <td>3.00</td>\n",
              "      <td>5.00</td>\n",
              "    </tr>\n",
              "  </tbody>\n",
              "</table>\n",
              "</div>\n",
              "      <button class=\"colab-df-convert\" onclick=\"convertToInteractive('df-e356baf2-5910-4d50-a650-ed4e28e2cc16')\"\n",
              "              title=\"Convert this dataframe to an interactive table.\"\n",
              "              style=\"display:none;\">\n",
              "        \n",
              "  <svg xmlns=\"http://www.w3.org/2000/svg\" height=\"24px\"viewBox=\"0 0 24 24\"\n",
              "       width=\"24px\">\n",
              "    <path d=\"M0 0h24v24H0V0z\" fill=\"none\"/>\n",
              "    <path d=\"M18.56 5.44l.94 2.06.94-2.06 2.06-.94-2.06-.94-.94-2.06-.94 2.06-2.06.94zm-11 1L8.5 8.5l.94-2.06 2.06-.94-2.06-.94L8.5 2.5l-.94 2.06-2.06.94zm10 10l.94 2.06.94-2.06 2.06-.94-2.06-.94-.94-2.06-.94 2.06-2.06.94z\"/><path d=\"M17.41 7.96l-1.37-1.37c-.4-.4-.92-.59-1.43-.59-.52 0-1.04.2-1.43.59L10.3 9.45l-7.72 7.72c-.78.78-.78 2.05 0 2.83L4 21.41c.39.39.9.59 1.41.59.51 0 1.02-.2 1.41-.59l7.78-7.78 2.81-2.81c.8-.78.8-2.07 0-2.86zM5.41 20L4 18.59l7.72-7.72 1.47 1.35L5.41 20z\"/>\n",
              "  </svg>\n",
              "      </button>\n",
              "      \n",
              "  <style>\n",
              "    .colab-df-container {\n",
              "      display:flex;\n",
              "      flex-wrap:wrap;\n",
              "      gap: 12px;\n",
              "    }\n",
              "\n",
              "    .colab-df-convert {\n",
              "      background-color: #E8F0FE;\n",
              "      border: none;\n",
              "      border-radius: 50%;\n",
              "      cursor: pointer;\n",
              "      display: none;\n",
              "      fill: #1967D2;\n",
              "      height: 32px;\n",
              "      padding: 0 0 0 0;\n",
              "      width: 32px;\n",
              "    }\n",
              "\n",
              "    .colab-df-convert:hover {\n",
              "      background-color: #E2EBFA;\n",
              "      box-shadow: 0px 1px 2px rgba(60, 64, 67, 0.3), 0px 1px 3px 1px rgba(60, 64, 67, 0.15);\n",
              "      fill: #174EA6;\n",
              "    }\n",
              "\n",
              "    [theme=dark] .colab-df-convert {\n",
              "      background-color: #3B4455;\n",
              "      fill: #D2E3FC;\n",
              "    }\n",
              "\n",
              "    [theme=dark] .colab-df-convert:hover {\n",
              "      background-color: #434B5C;\n",
              "      box-shadow: 0px 1px 3px 1px rgba(0, 0, 0, 0.15);\n",
              "      filter: drop-shadow(0px 1px 2px rgba(0, 0, 0, 0.3));\n",
              "      fill: #FFFFFF;\n",
              "    }\n",
              "  </style>\n",
              "\n",
              "      <script>\n",
              "        const buttonEl =\n",
              "          document.querySelector('#df-e356baf2-5910-4d50-a650-ed4e28e2cc16 button.colab-df-convert');\n",
              "        buttonEl.style.display =\n",
              "          google.colab.kernel.accessAllowed ? 'block' : 'none';\n",
              "\n",
              "        async function convertToInteractive(key) {\n",
              "          const element = document.querySelector('#df-e356baf2-5910-4d50-a650-ed4e28e2cc16');\n",
              "          const dataTable =\n",
              "            await google.colab.kernel.invokeFunction('convertToInteractive',\n",
              "                                                     [key], {});\n",
              "          if (!dataTable) return;\n",
              "\n",
              "          const docLinkHtml = 'Like what you see? Visit the ' +\n",
              "            '<a target=\"_blank\" href=https://colab.research.google.com/notebooks/data_table.ipynb>data table notebook</a>'\n",
              "            + ' to learn more about interactive tables.';\n",
              "          element.innerHTML = '';\n",
              "          dataTable['output_type'] = 'display_data';\n",
              "          await google.colab.output.renderOutput(dataTable, element);\n",
              "          const docLink = document.createElement('div');\n",
              "          docLink.innerHTML = docLinkHtml;\n",
              "          element.appendChild(docLink);\n",
              "        }\n",
              "      </script>\n",
              "    </div>\n",
              "  </div>\n",
              "  "
            ]
          },
          "metadata": {},
          "execution_count": 17
        }
      ]
    },
    {
      "cell_type": "markdown",
      "source": [
        "The data now looks good and useable, but it needs to be normalized (all values between 0 and 1)."
      ],
      "metadata": {
        "id": "VEymCmUJalgy"
      }
    },
    {
      "cell_type": "code",
      "source": [
        "#makes it easy to separate the target from everything else\n",
        "target = ['stroke']\n",
        "predictors = list(set(list(df.columns))-set(target))\n",
        "#normalize data by dividing all values in a column by the max of that column\n",
        "df[predictors] = df[predictors]/df[predictors].max()"
      ],
      "metadata": {
        "id": "17xPzMspariJ"
      },
      "execution_count": 18,
      "outputs": []
    },
    {
      "cell_type": "markdown",
      "source": [
        "Now I want to do one last check to make sure that all of the features look right and the counts are still the same if missing values are removed."
      ],
      "metadata": {
        "id": "l7faApMfa7w4"
      }
    },
    {
      "cell_type": "code",
      "source": [
        "#Removes missing values\n",
        "df = df.dropna()\n",
        "#Use count column to verify\n",
        "df.describe().transpose()"
      ],
      "metadata": {
        "colab": {
          "base_uri": "https://localhost:8080/",
          "height": 394
        },
        "id": "aOgRZgdaa6gk",
        "outputId": "ecb0d27f-589c-4d37-dac2-8809ba61a158"
      },
      "execution_count": 19,
      "outputs": [
        {
          "output_type": "execute_result",
          "data": {
            "text/plain": [
              "                    count      mean       std       min       25%       50%  \\\n",
              "age                5110.0  0.527154  0.275764  0.000976  0.304878  0.548780   \n",
              "hypertension       5110.0  0.097456  0.296607  0.000000  0.000000  0.000000   \n",
              "heart_disease      5110.0  0.054012  0.226063  0.000000  0.000000  0.000000   \n",
              "avg_glucose_level  5110.0  0.390622  0.166643  0.202841  0.284261  0.338136   \n",
              "bmi                5110.0  0.295718  0.078889  0.105533  0.243852  0.287910   \n",
              "stroke             5110.0  0.048728  0.215320  0.000000  0.000000  0.000000   \n",
              "gender_value       5110.0  0.528767  0.164314  0.333333  0.333333  0.666667   \n",
              "maried_value       5110.0  0.828082  0.237517  0.500000  0.500000  1.000000   \n",
              "residence_value    5110.0  0.745988  0.249992  0.500000  0.500000  0.500000   \n",
              "smoking_value      5110.0  0.370581  0.357273  0.000000  0.000000  0.333333   \n",
              "work_value         5110.0  0.366419  0.221985  0.200000  0.200000  0.200000   \n",
              "\n",
              "                        75%  max  \n",
              "age                0.743902  1.0  \n",
              "hypertension       0.000000  1.0  \n",
              "heart_disease      0.000000  1.0  \n",
              "avg_glucose_level  0.419850  1.0  \n",
              "bmi                0.336066  1.0  \n",
              "stroke             0.000000  1.0  \n",
              "gender_value       0.666667  1.0  \n",
              "maried_value       1.000000  1.0  \n",
              "residence_value    1.000000  1.0  \n",
              "smoking_value      0.666667  1.0  \n",
              "work_value         0.600000  1.0  "
            ],
            "text/html": [
              "\n",
              "  <div id=\"df-cc1ce3e0-b1e3-488d-a0a8-16066c79618d\">\n",
              "    <div class=\"colab-df-container\">\n",
              "      <div>\n",
              "<style scoped>\n",
              "    .dataframe tbody tr th:only-of-type {\n",
              "        vertical-align: middle;\n",
              "    }\n",
              "\n",
              "    .dataframe tbody tr th {\n",
              "        vertical-align: top;\n",
              "    }\n",
              "\n",
              "    .dataframe thead th {\n",
              "        text-align: right;\n",
              "    }\n",
              "</style>\n",
              "<table border=\"1\" class=\"dataframe\">\n",
              "  <thead>\n",
              "    <tr style=\"text-align: right;\">\n",
              "      <th></th>\n",
              "      <th>count</th>\n",
              "      <th>mean</th>\n",
              "      <th>std</th>\n",
              "      <th>min</th>\n",
              "      <th>25%</th>\n",
              "      <th>50%</th>\n",
              "      <th>75%</th>\n",
              "      <th>max</th>\n",
              "    </tr>\n",
              "  </thead>\n",
              "  <tbody>\n",
              "    <tr>\n",
              "      <th>age</th>\n",
              "      <td>5110.0</td>\n",
              "      <td>0.527154</td>\n",
              "      <td>0.275764</td>\n",
              "      <td>0.000976</td>\n",
              "      <td>0.304878</td>\n",
              "      <td>0.548780</td>\n",
              "      <td>0.743902</td>\n",
              "      <td>1.0</td>\n",
              "    </tr>\n",
              "    <tr>\n",
              "      <th>hypertension</th>\n",
              "      <td>5110.0</td>\n",
              "      <td>0.097456</td>\n",
              "      <td>0.296607</td>\n",
              "      <td>0.000000</td>\n",
              "      <td>0.000000</td>\n",
              "      <td>0.000000</td>\n",
              "      <td>0.000000</td>\n",
              "      <td>1.0</td>\n",
              "    </tr>\n",
              "    <tr>\n",
              "      <th>heart_disease</th>\n",
              "      <td>5110.0</td>\n",
              "      <td>0.054012</td>\n",
              "      <td>0.226063</td>\n",
              "      <td>0.000000</td>\n",
              "      <td>0.000000</td>\n",
              "      <td>0.000000</td>\n",
              "      <td>0.000000</td>\n",
              "      <td>1.0</td>\n",
              "    </tr>\n",
              "    <tr>\n",
              "      <th>avg_glucose_level</th>\n",
              "      <td>5110.0</td>\n",
              "      <td>0.390622</td>\n",
              "      <td>0.166643</td>\n",
              "      <td>0.202841</td>\n",
              "      <td>0.284261</td>\n",
              "      <td>0.338136</td>\n",
              "      <td>0.419850</td>\n",
              "      <td>1.0</td>\n",
              "    </tr>\n",
              "    <tr>\n",
              "      <th>bmi</th>\n",
              "      <td>5110.0</td>\n",
              "      <td>0.295718</td>\n",
              "      <td>0.078889</td>\n",
              "      <td>0.105533</td>\n",
              "      <td>0.243852</td>\n",
              "      <td>0.287910</td>\n",
              "      <td>0.336066</td>\n",
              "      <td>1.0</td>\n",
              "    </tr>\n",
              "    <tr>\n",
              "      <th>stroke</th>\n",
              "      <td>5110.0</td>\n",
              "      <td>0.048728</td>\n",
              "      <td>0.215320</td>\n",
              "      <td>0.000000</td>\n",
              "      <td>0.000000</td>\n",
              "      <td>0.000000</td>\n",
              "      <td>0.000000</td>\n",
              "      <td>1.0</td>\n",
              "    </tr>\n",
              "    <tr>\n",
              "      <th>gender_value</th>\n",
              "      <td>5110.0</td>\n",
              "      <td>0.528767</td>\n",
              "      <td>0.164314</td>\n",
              "      <td>0.333333</td>\n",
              "      <td>0.333333</td>\n",
              "      <td>0.666667</td>\n",
              "      <td>0.666667</td>\n",
              "      <td>1.0</td>\n",
              "    </tr>\n",
              "    <tr>\n",
              "      <th>maried_value</th>\n",
              "      <td>5110.0</td>\n",
              "      <td>0.828082</td>\n",
              "      <td>0.237517</td>\n",
              "      <td>0.500000</td>\n",
              "      <td>0.500000</td>\n",
              "      <td>1.000000</td>\n",
              "      <td>1.000000</td>\n",
              "      <td>1.0</td>\n",
              "    </tr>\n",
              "    <tr>\n",
              "      <th>residence_value</th>\n",
              "      <td>5110.0</td>\n",
              "      <td>0.745988</td>\n",
              "      <td>0.249992</td>\n",
              "      <td>0.500000</td>\n",
              "      <td>0.500000</td>\n",
              "      <td>0.500000</td>\n",
              "      <td>1.000000</td>\n",
              "      <td>1.0</td>\n",
              "    </tr>\n",
              "    <tr>\n",
              "      <th>smoking_value</th>\n",
              "      <td>5110.0</td>\n",
              "      <td>0.370581</td>\n",
              "      <td>0.357273</td>\n",
              "      <td>0.000000</td>\n",
              "      <td>0.000000</td>\n",
              "      <td>0.333333</td>\n",
              "      <td>0.666667</td>\n",
              "      <td>1.0</td>\n",
              "    </tr>\n",
              "    <tr>\n",
              "      <th>work_value</th>\n",
              "      <td>5110.0</td>\n",
              "      <td>0.366419</td>\n",
              "      <td>0.221985</td>\n",
              "      <td>0.200000</td>\n",
              "      <td>0.200000</td>\n",
              "      <td>0.200000</td>\n",
              "      <td>0.600000</td>\n",
              "      <td>1.0</td>\n",
              "    </tr>\n",
              "  </tbody>\n",
              "</table>\n",
              "</div>\n",
              "      <button class=\"colab-df-convert\" onclick=\"convertToInteractive('df-cc1ce3e0-b1e3-488d-a0a8-16066c79618d')\"\n",
              "              title=\"Convert this dataframe to an interactive table.\"\n",
              "              style=\"display:none;\">\n",
              "        \n",
              "  <svg xmlns=\"http://www.w3.org/2000/svg\" height=\"24px\"viewBox=\"0 0 24 24\"\n",
              "       width=\"24px\">\n",
              "    <path d=\"M0 0h24v24H0V0z\" fill=\"none\"/>\n",
              "    <path d=\"M18.56 5.44l.94 2.06.94-2.06 2.06-.94-2.06-.94-.94-2.06-.94 2.06-2.06.94zm-11 1L8.5 8.5l.94-2.06 2.06-.94-2.06-.94L8.5 2.5l-.94 2.06-2.06.94zm10 10l.94 2.06.94-2.06 2.06-.94-2.06-.94-.94-2.06-.94 2.06-2.06.94z\"/><path d=\"M17.41 7.96l-1.37-1.37c-.4-.4-.92-.59-1.43-.59-.52 0-1.04.2-1.43.59L10.3 9.45l-7.72 7.72c-.78.78-.78 2.05 0 2.83L4 21.41c.39.39.9.59 1.41.59.51 0 1.02-.2 1.41-.59l7.78-7.78 2.81-2.81c.8-.78.8-2.07 0-2.86zM5.41 20L4 18.59l7.72-7.72 1.47 1.35L5.41 20z\"/>\n",
              "  </svg>\n",
              "      </button>\n",
              "      \n",
              "  <style>\n",
              "    .colab-df-container {\n",
              "      display:flex;\n",
              "      flex-wrap:wrap;\n",
              "      gap: 12px;\n",
              "    }\n",
              "\n",
              "    .colab-df-convert {\n",
              "      background-color: #E8F0FE;\n",
              "      border: none;\n",
              "      border-radius: 50%;\n",
              "      cursor: pointer;\n",
              "      display: none;\n",
              "      fill: #1967D2;\n",
              "      height: 32px;\n",
              "      padding: 0 0 0 0;\n",
              "      width: 32px;\n",
              "    }\n",
              "\n",
              "    .colab-df-convert:hover {\n",
              "      background-color: #E2EBFA;\n",
              "      box-shadow: 0px 1px 2px rgba(60, 64, 67, 0.3), 0px 1px 3px 1px rgba(60, 64, 67, 0.15);\n",
              "      fill: #174EA6;\n",
              "    }\n",
              "\n",
              "    [theme=dark] .colab-df-convert {\n",
              "      background-color: #3B4455;\n",
              "      fill: #D2E3FC;\n",
              "    }\n",
              "\n",
              "    [theme=dark] .colab-df-convert:hover {\n",
              "      background-color: #434B5C;\n",
              "      box-shadow: 0px 1px 3px 1px rgba(0, 0, 0, 0.15);\n",
              "      filter: drop-shadow(0px 1px 2px rgba(0, 0, 0, 0.3));\n",
              "      fill: #FFFFFF;\n",
              "    }\n",
              "  </style>\n",
              "\n",
              "      <script>\n",
              "        const buttonEl =\n",
              "          document.querySelector('#df-cc1ce3e0-b1e3-488d-a0a8-16066c79618d button.colab-df-convert');\n",
              "        buttonEl.style.display =\n",
              "          google.colab.kernel.accessAllowed ? 'block' : 'none';\n",
              "\n",
              "        async function convertToInteractive(key) {\n",
              "          const element = document.querySelector('#df-cc1ce3e0-b1e3-488d-a0a8-16066c79618d');\n",
              "          const dataTable =\n",
              "            await google.colab.kernel.invokeFunction('convertToInteractive',\n",
              "                                                     [key], {});\n",
              "          if (!dataTable) return;\n",
              "\n",
              "          const docLinkHtml = 'Like what you see? Visit the ' +\n",
              "            '<a target=\"_blank\" href=https://colab.research.google.com/notebooks/data_table.ipynb>data table notebook</a>'\n",
              "            + ' to learn more about interactive tables.';\n",
              "          element.innerHTML = '';\n",
              "          dataTable['output_type'] = 'display_data';\n",
              "          await google.colab.output.renderOutput(dataTable, element);\n",
              "          const docLink = document.createElement('div');\n",
              "          docLink.innerHTML = docLinkHtml;\n",
              "          element.appendChild(docLink);\n",
              "        }\n",
              "      </script>\n",
              "    </div>\n",
              "  </div>\n",
              "  "
            ]
          },
          "metadata": {},
          "execution_count": 19
        }
      ]
    },
    {
      "cell_type": "markdown",
      "source": [
        "Shows the numbers of duplicates after transformation"
      ],
      "metadata": {
        "id": "mVyuYLbFbWjO"
      }
    },
    {
      "cell_type": "code",
      "source": [
        "print(df.duplicated().sum())"
      ],
      "metadata": {
        "colab": {
          "base_uri": "https://localhost:8080/"
        },
        "id": "xVC3C3nvbfUP",
        "outputId": "a60bdf9a-7908-4ead-deb9-d8de62ed24f0"
      },
      "execution_count": 20,
      "outputs": [
        {
          "output_type": "stream",
          "name": "stdout",
          "text": [
            "0\n"
          ]
        }
      ]
    },
    {
      "cell_type": "markdown",
      "source": [
        "## **Modeling**\n",
        "\n",
        "Now that all necessary preliminary steps have been taken, it is now time to split the data into training and testing."
      ],
      "metadata": {
        "id": "b6kVuKW8beMb"
      }
    },
    {
      "cell_type": "code",
      "source": [
        "#changes the dataframe into two numpy arrays\n",
        "X = df[predictors].values\n",
        "y = df[target].values\n",
        "#Change y from a row-vector to a column array\n",
        "y = np.ravel(y)\n",
        "\n",
        "#split x and y arrays into training and testing, 30% of data goes to testing\n",
        "from sklearn.model_selection import train_test_split\n",
        "X_train, X_test, y_train, y_test = train_test_split(X, y, test_size = 0.30, random_state=40)\n"
      ],
      "metadata": {
        "id": "9084fIJ5b3h2"
      },
      "execution_count": 21,
      "outputs": []
    },
    {
      "cell_type": "markdown",
      "source": [
        "To evaluate each model I am using the classification report. This gives some important calculations with the most important being the accuracy and it is very readable. I am also using the confusing matrix because it is very simple and visual, and the numbers in the confusion matrix are how the statistics in the classification report are calculated."
      ],
      "metadata": {
        "id": "Zly83oYwgNGu"
      }
    },
    {
      "cell_type": "markdown",
      "source": [
        "#### **K Nearest Neighbor**\n",
        "It is now time to test out some models, with the first one being KNN."
      ],
      "metadata": {
        "id": "T9w8zTnSiGry"
      }
    },
    {
      "cell_type": "code",
      "source": [
        "#import the model \n",
        "from sklearn.neighbors import KNeighborsClassifier\n",
        "#initialize the model\n",
        "neigh = KNeighborsClassifier()\n",
        "#fits model to the training data\n",
        "neigh.fit(X_train, y_train)\n",
        "#Use the model to predict on new test data\n",
        "predict_test = neigh.predict(X_test)\n",
        "\n",
        "from sklearn.metrics import classification_report,confusion_matrix, ConfusionMatrixDisplay\n",
        "\n",
        "#shows the results of predictions of training data\n",
        "matrix = confusion_matrix(y_test, predict_test)\n",
        "disp = ConfusionMatrixDisplay(confusion_matrix=matrix)\n",
        "disp.plot()\n",
        "print(classification_report(y_test, predict_test))"
      ],
      "metadata": {
        "colab": {
          "base_uri": "https://localhost:8080/",
          "height": 440
        },
        "id": "Kyq8gcjPiV6_",
        "outputId": "1e58b237-5e68-4f35-80d6-c1d2ff59cfcb"
      },
      "execution_count": 22,
      "outputs": [
        {
          "output_type": "stream",
          "name": "stdout",
          "text": [
            "              precision    recall  f1-score   support\n",
            "\n",
            "           0       0.95      1.00      0.97      1460\n",
            "           1       0.33      0.03      0.05        73\n",
            "\n",
            "    accuracy                           0.95      1533\n",
            "   macro avg       0.64      0.51      0.51      1533\n",
            "weighted avg       0.92      0.95      0.93      1533\n",
            "\n"
          ]
        },
        {
          "output_type": "display_data",
          "data": {
            "text/plain": [
              "<Figure size 432x288 with 2 Axes>"
            ],
            "image/png": "[encoded data removed]"
          },
          "metadata": {
            "needs_background": "light"
          }
        }
      ]
    },
    {
      "cell_type": "markdown",
      "source": [
        "#### **Random Forest Classifier** "
      ],
      "metadata": {
        "id": "nH8p020NjnH-"
      }
    },
    {
      "cell_type": "code",
      "source": [
        "#import the model\n",
        "from sklearn.ensemble import RandomForestClassifier\n",
        "#initialize the model\n",
        "rfc = RandomForestClassifier();\n",
        "#fits model to the training data\n",
        "rfc.fit(X_train, y_train)\n",
        "#Use the model to predict on new test data\n",
        "predict_test = rfc.predict(X_test)\n",
        "\n",
        "#shows the results of predictions of training data\n",
        "matrix = confusion_matrix(y_test, predict_test)\n",
        "disp = ConfusionMatrixDisplay(confusion_matrix=matrix)\n",
        "disp.plot()\n",
        "print(classification_report(y_test, predict_test))"
      ],
      "metadata": {
        "colab": {
          "base_uri": "https://localhost:8080/",
          "height": 440
        },
        "id": "1ODtKXNojprt",
        "outputId": "8a24d7ea-9367-4a88-feba-de9bbb1fcc81"
      },
      "execution_count": 23,
      "outputs": [
        {
          "output_type": "stream",
          "name": "stdout",
          "text": [
            "              precision    recall  f1-score   support\n",
            "\n",
            "           0       0.95      1.00      0.97      1460\n",
            "           1       0.00      0.00      0.00        73\n",
            "\n",
            "    accuracy                           0.95      1533\n",
            "   macro avg       0.48      0.50      0.49      1533\n",
            "weighted avg       0.91      0.95      0.93      1533\n",
            "\n"
          ]
        },
        {
          "output_type": "display_data",
          "data": {
            "text/plain": [
              "<Figure size 432x288 with 2 Axes>"
            ],
            "image/png": "[encoded data removed]"
          },
          "metadata": {
            "needs_background": "light"
          }
        }
      ]
    },
    {
      "cell_type": "markdown",
      "source": [
        "#### **Logistic Regression**"
      ],
      "metadata": {
        "id": "835FDVVvkMLe"
      }
    },
    {
      "cell_type": "code",
      "source": [
        "#import the model\n",
        "from sklearn.linear_model import LogisticRegression\n",
        "#initialize the model\n",
        "lr = LogisticRegression(random_state=0);\n",
        "#fits model to the training data\n",
        "lr.fit(X_train, y_train)\n",
        "#Use the model to predict on new test data\n",
        "predict_test = lr.predict(X_test)\n",
        "\n",
        "#shows the results of predictions of training data\n",
        "matrix = confusion_matrix(y_test, predict_test)\n",
        "disp = ConfusionMatrixDisplay(confusion_matrix=matrix)\n",
        "disp.plot()\n",
        "print(classification_report(y_test, predict_test,zero_division=1))"
      ],
      "metadata": {
        "colab": {
          "base_uri": "https://localhost:8080/",
          "height": 440
        },
        "id": "yp6W9YmbkO8u",
        "outputId": "b7721714-8cef-4cb5-e5a6-4f0330fe24f1"
      },
      "execution_count": 24,
      "outputs": [
        {
          "output_type": "stream",
          "name": "stdout",
          "text": [
            "              precision    recall  f1-score   support\n",
            "\n",
            "           0       0.95      1.00      0.98      1460\n",
            "           1       1.00      0.00      0.00        73\n",
            "\n",
            "    accuracy                           0.95      1533\n",
            "   macro avg       0.98      0.50      0.49      1533\n",
            "weighted avg       0.95      0.95      0.93      1533\n",
            "\n"
          ]
        },
        {
          "output_type": "display_data",
          "data": {
            "text/plain": [
              "<Figure size 432x288 with 2 Axes>"
            ],
            "image/png": "[encoded data removed]"
          },
          "metadata": {
            "needs_background": "light"
          }
        }
      ]
    },
    {
      "cell_type": "code",
      "source": [
        "total = matrix[0][1] + matrix[0][0] + matrix[1][0] + matrix[1][1]\n",
        "orig_tp = matrix[0][0]\n",
        "orig_tn = matrix[1][1]\n",
        "orig_fp = matrix[1][0]\n",
        "orig_fn = matrix[0][1]\n",
        "orig_accuracy = (matrix[0][0] + matrix[1][1]) / total"
      ],
      "metadata": {
        "id": "PnW7iP0Zr0QK"
      },
      "execution_count": 25,
      "outputs": []
    },
    {
      "cell_type": "markdown",
      "source": [
        "#### **Multi-layer Perceptron**\n"
      ],
      "metadata": {
        "id": "hxD1ZqpWhcRj"
      }
    },
    {
      "cell_type": "code",
      "source": [
        "#import the model\n",
        "from sklearn.neural_network import MLPClassifier\n",
        "#initialize the model\n",
        "nodes = len(df.columns)\n",
        "model = MLPClassifier(hidden_layer_sizes=(nodes,nodes,nodes), activation='relu', solver='sgd', max_iter=200)\n",
        "#fits model to the training data\n",
        "model.fit(X_train,y_train)\n",
        "#use the model to predict on new test data\n",
        "predict_test = model.predict(X_test)\n",
        "\n",
        "#shows the results of predictions of training data\n",
        "matrix = confusion_matrix(y_test, predict_test)\n",
        "disp = ConfusionMatrixDisplay(confusion_matrix=matrix)\n",
        "disp.plot()\n",
        "print(classification_report(y_test, predict_test,zero_division=1))\n"
      ],
      "metadata": {
        "colab": {
          "base_uri": "https://localhost:8080/",
          "height": 440
        },
        "id": "kr_y40Ush7c8",
        "outputId": "c5dd28ae-57c4-4a03-f803-3f236f587149"
      },
      "execution_count": 26,
      "outputs": [
        {
          "output_type": "stream",
          "name": "stdout",
          "text": [
            "              precision    recall  f1-score   support\n",
            "\n",
            "           0       0.95      1.00      0.98      1460\n",
            "           1       1.00      0.00      0.00        73\n",
            "\n",
            "    accuracy                           0.95      1533\n",
            "   macro avg       0.98      0.50      0.49      1533\n",
            "weighted avg       0.95      0.95      0.93      1533\n",
            "\n"
          ]
        },
        {
          "output_type": "display_data",
          "data": {
            "text/plain": [
              "<Figure size 432x288 with 2 Axes>"
            ],
            "image/png": "[encoded data removed]"
          },
          "metadata": {
            "needs_background": "light"
          }
        }
      ]
    },
    {
      "cell_type": "markdown",
      "source": [
        "#### **Improving Accuracy**\n",
        "\n",
        "The MLP and Logistic Regression were tied for most accurate, so I will chose Logistic Regression to attempt to optimize for more accuracy. First I will check what features the model found to be most important and least important from the random forest classifier."
      ],
      "metadata": {
        "id": "JS2nbOclnPwb"
      }
    },
    {
      "cell_type": "code",
      "source": [
        "#use function to find importances\n",
        "importances= rfc.feature_importances_\n",
        "#organize into individual features, matches each column title to an importance\n",
        "forest_importances = pd.Series(importances, index=df[predictors].columns)\n",
        "#setup graph and plot results\n",
        "fig, ax = plt.subplots()\n",
        "std = np.std([tree.feature_importances_ for tree in rfc.estimators_], axis=0)\n",
        "forest_importances.plot.bar(yerr=std,ax=ax)\n",
        "fig.tight_layout()"
      ],
      "metadata": {
        "colab": {
          "base_uri": "https://localhost:8080/",
          "height": 297
        },
        "id": "Jbz39PChoFbA",
        "outputId": "ba8acb74-13aa-4da8-de68-1d72017bdde0"
      },
      "execution_count": 27,
      "outputs": [
        {
          "output_type": "display_data",
          "data": {
            "text/plain": [
              "<Figure size 432x288 with 1 Axes>"
            ],
            "image/png": "[encoded data removed]"
          },
          "metadata": {
            "needs_background": "light"
          }
        }
      ]
    },
    {
      "cell_type": "markdown",
      "source": [
        "As one might predict, age, glucose level, and bmi are by far the three most predictive features. Since the rest are all pretty much on the same level, I don't want to drop them cause then I would be getting rid of a lot of features."
      ],
      "metadata": {
        "id": "GYZk4bhippdv"
      }
    },
    {
      "cell_type": "code",
      "source": [
        "#increase importance of predictive features\n",
        "df['age'] = df['age'] * 2\n",
        "df['avg_glucose_level'] = df['avg_glucose_level'] * 2\n",
        "df['bmi'] = df['bmi'] * 2"
      ],
      "metadata": {
        "id": "YGS7tLBop0K5"
      },
      "execution_count": 28,
      "outputs": []
    },
    {
      "cell_type": "code",
      "source": [
        "#same process we took earlier\n",
        "\n",
        "predictors = list(set(list(df.columns))-set(target))\n",
        "#changes the dataframe into two numpy arrays\n",
        "X = df[predictors].values\n",
        "y = df[target].values\n",
        "#Change y from a row-vector to a column array\n",
        "y = np.ravel(y)\n",
        "#split x and y arrays into training and testing\n",
        "X_train, X_test, y_train, y_test = train_test_split(X, y, test_size = 0.30, random_state=40)"
      ],
      "metadata": {
        "id": "DIzqTSDYqSip"
      },
      "execution_count": 29,
      "outputs": []
    },
    {
      "cell_type": "code",
      "source": [
        "#initialize the model\n",
        "lr = LogisticRegression(random_state=0,solver='liblinear');\n",
        "#fits model to the training data\n",
        "lr.fit(X_train, y_train)\n",
        "#Use the model to predict on new test data\n",
        "predict_test = lr.predict(X_test)\n",
        "\n",
        "#shows the results of predictions of training data\n",
        "matrix = confusion_matrix(y_test, predict_test)\n",
        "disp = ConfusionMatrixDisplay(confusion_matrix=matrix)\n",
        "disp.plot()\n",
        "print(classification_report(y_test, predict_test,zero_division=1))"
      ],
      "metadata": {
        "colab": {
          "base_uri": "https://localhost:8080/",
          "height": 440
        },
        "id": "Y2z9dQ1mqmJ1",
        "outputId": "8554c0a2-6b74-4812-f184-ab9ab0f3adcd"
      },
      "execution_count": 30,
      "outputs": [
        {
          "output_type": "stream",
          "name": "stdout",
          "text": [
            "              precision    recall  f1-score   support\n",
            "\n",
            "           0       0.95      1.00      0.98      1460\n",
            "           1       1.00      0.00      0.00        73\n",
            "\n",
            "    accuracy                           0.95      1533\n",
            "   macro avg       0.98      0.50      0.49      1533\n",
            "weighted avg       0.95      0.95      0.93      1533\n",
            "\n"
          ]
        },
        {
          "output_type": "display_data",
          "data": {
            "text/plain": [
              "<Figure size 432x288 with 2 Axes>"
            ],
            "image/png": "[encoded data removed]"
          },
          "metadata": {
            "needs_background": "light"
          }
        }
      ]
    },
    {
      "cell_type": "code",
      "source": [
        "total = matrix[0][1] + matrix[0][0] + matrix[1][0] + matrix[1][1]\n",
        "new_accuracy = (matrix[0][0] + matrix[1][1]) / total\n",
        "print(\"Accuracy of new model: \", new_accuracy) \n",
        "print(\"Accuracy of original model: \" , orig_accuracy)\n",
        "print(\"Difference in accuracy: \", new_accuracy - orig_accuracy)\n",
        "print(\"Difference between true positives: \", matrix[0][0] - orig_tp)\n",
        "print(\"Difference between true negatives: \", matrix[1][1] - orig_tn)\n",
        "print(\"Difference between fasle positives: \", matrix[1][0] - orig_fp)\n",
        "print(\"Difference between false negatives: \", matrix[0][1] - orig_fn)"
      ],
      "metadata": {
        "colab": {
          "base_uri": "https://localhost:8080/"
        },
        "id": "10RVIr3BrYVI",
        "outputId": "1a5eaae9-b1c9-4c50-b7bf-d6ebfdda807d"
      },
      "execution_count": 31,
      "outputs": [
        {
          "output_type": "stream",
          "name": "stdout",
          "text": [
            "Accuracy of new model:  0.9523809523809523\n",
            "Accuracy of original model:  0.9523809523809523\n",
            "Difference in accuracy:  0.0\n",
            "Difference between true positives:  0\n",
            "Difference between true negatives:  0\n",
            "Difference between fasle positives:  0\n",
            "Difference between false negatives:  0\n"
          ]
        }
      ]
    },
    {
      "cell_type": "markdown",
      "source": [
        "Unfortunately the optimization did not help. This is probably caused by a small dataset. Since the dataset was small, the models had fewer cases to learn from, which caused them to fit almost exactly to their training data (overfitting)."
      ],
      "metadata": {
        "id": "YWeZs5l9sP3D"
      }
    }
  ]
}