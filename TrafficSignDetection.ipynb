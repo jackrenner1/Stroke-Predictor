{
  "nbformat": 4,
  "nbformat_minor": 0,
  "metadata": {
    "colab": {
      "provenance": [],
      "authorship_tag": "ABX9TyNyNn+ZSrS/GtgKyQCFoqbA"
    },
    "kernelspec": {
      "name": "python3",
      "display_name": "Python 3"
    },
    "language_info": {
      "name": "python"
    }
  },
  "cells": [
    {
      "cell_type": "code",
      "execution_count": 29,
      "metadata": {
        "id": "w5K-Fp4Kycrh"
      },
      "outputs": [],
      "source": [
        "import torch\n",
        "import torchvision\n",
        "from torchvision import transforms"
      ]
    },
    {
      "cell_type": "markdown",
      "source": [
        "cite the data set"
      ],
      "metadata": {
        "id": "aRj33bU9_RH5"
      }
    },
    {
      "cell_type": "code",
      "source": [
        "@article{Stallkamp2012,\n",
        "title = \"Man vs. computer: Benchmarking machine learning algorithms for traffic sign recognition\",\n",
        "journal = \"Neural Networks\",\n",
        "volume = \"\",\n",
        "number = \"0\",\n",
        "pages = \" - \",\n",
        "year = \"2012\",\n",
        "note = \"\",\n",
        "issn = \"0893-6080\",\n",
        "doi = \"10.1016/j.neunet.2012.02.016\",\n",
        "url = \"http://www.sciencedirect.com/science/article/pii/S0893608012000457\",\n",
        "author = \"J. Stallkamp and M. Schlipsing and J. Salmen and C. Igel\",\n",
        "keywords = \"Traffic sign recognition\",\n",
        "keywords = \"Machine learning\",\n",
        "keywords = \"Convolutional neural networks\",\n",
        "keywords = \"Benchmarking\"\n",
        "}"
      ],
      "metadata": {
        "colab": {
          "base_uri": "https://localhost:8080/",
          "height": 142
        },
        "id": "Ql_gEsKd_P8p",
        "outputId": "63b0947d-2bbc-4b8e-ceba-80094359e95e"
      },
      "execution_count": 30,
      "outputs": [
        {
          "output_type": "error",
          "ename": "SyntaxError",
          "evalue": "ignored",
          "traceback": [
            "\u001b[0;36m  File \u001b[0;32m\"<ipython-input-30-47609e86f0e8>\"\u001b[0;36m, line \u001b[0;32m2\u001b[0m\n\u001b[0;31m    title = \"Man vs. computer: Benchmarking machine learning algorithms for traffic sign recognition\",\u001b[0m\n\u001b[0m    ^\u001b[0m\n\u001b[0;31mSyntaxError\u001b[0m\u001b[0;31m:\u001b[0m invalid syntax. Maybe you meant '==' or ':=' instead of '='?\n"
          ]
        }
      ]
    },
    {
      "cell_type": "code",
      "source": [
        "#this is for data preprocessing and loading with train data\n",
        "def train_pl():\n",
        "  #the transofrmation we will apply to the images from the GTSRB dataset\n",
        "  #rezize all images to 32x32 and make means = 0, and std = 1\n",
        "  transform = transforms.Compose([\n",
        "    transforms.Resize((32, 32)),\n",
        "    transforms.ToTensor(),\n",
        "    transforms.Normalize((0.3417, 0.3126, 0.3216),(0.1594, 0.1583, 0.1676))\n",
        "])\n",
        "\n",
        "  # loading and downloading the dataset\n",
        "  train_data = torchvision.datasets.GTSRB(root='/content/dataset',split = 'train', transform=transform, download=True)\n",
        "\n",
        "  #create dataloaders so that the GTSRB Cars data can be loaded into the model we will implement\n",
        "  #batches of 19, shuffled, 2 extra worker processes (main + worker + worker = 3 worker streams)\n",
        "  train_loader = torch.utils.data.DataLoader(train_data, batch_size=19, shuffle=True, num_workers=2)\n",
        "\n",
        "  #check if means and std are 0, 1\n",
        "  def get_mean_and_std(loader):\n",
        "    mean = 0\n",
        "    std = 0\n",
        "    total = 0\n",
        "    for images, _ in loader:\n",
        "      imagge_batch = images.size(0)\n",
        "      images = images.view(imagge_batch, images.size(1), -1)\n",
        "      mean += images.mean(2).sum(0)\n",
        "      std += images.std(2).sum(0)\n",
        "      total += imagge_batch\n",
        "\n",
        "    mean /= total\n",
        "    std /= total\n",
        "\n",
        "    return mean, std\n",
        "\n",
        "  print(get_mean_and_std(train_loader))\n",
        "\n",
        "  return train_loader\n"
      ],
      "metadata": {
        "id": "r-Gtu0mD68eH"
      },
      "execution_count": 70,
      "outputs": []
    },
    {
      "cell_type": "code",
      "source": [
        "train_pl()"
      ],
      "metadata": {
        "colab": {
          "base_uri": "https://localhost:8080/"
        },
        "id": "RBUm6kT8G8EA",
        "outputId": "17fd3c1c-b2ef-4cdd-8495-f0405ef3a776"
      },
      "execution_count": 71,
      "outputs": [
        {
          "output_type": "stream",
          "name": "stdout",
          "text": [
            "(tensor([ 0.0001, -0.0002, -0.0002]), tensor([0.9999, 1.0003, 0.9998]))\n"
          ]
        },
        {
          "output_type": "execute_result",
          "data": {
            "text/plain": [
              "<torch.utils.data.dataloader.DataLoader at 0x7e5f50ba0fd0>"
            ]
          },
          "metadata": {},
          "execution_count": 71
        }
      ]
    }
  ]
}