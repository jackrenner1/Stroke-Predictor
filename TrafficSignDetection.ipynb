{
  "nbformat": 4,
  "nbformat_minor": 0,
  "metadata": {
    "colab": {
      "provenance": [],
      "authorship_tag": "ABX9TyNzugCzbhE9CzOdE0hK5C4N",
      "include_colab_link": true
    },
    "kernelspec": {
      "name": "python3",
      "display_name": "Python 3"
    },
    "language_info": {
      "name": "python"
    }
  },
  "cells": [
    {
      "cell_type": "markdown",
      "metadata": {
        "id": "view-in-github",
        "colab_type": "text"
      },
      "source": [
        "<a href=\"https://colab.research.google.com/github/jackrenner1/Stroke-Predictor/blob/main/TrafficSignDetection.ipynb\" target=\"_parent\"><img src=\"https://colab.research.google.com/assets/colab-badge.svg\" alt=\"Open In Colab\"/></a>"
      ]
    },
    {
      "cell_type": "code",
      "execution_count": 3,
      "metadata": {
        "id": "w5K-Fp4Kycrh"
      },
      "outputs": [],
      "source": [
        "import torch\n",
        "import torchvision\n",
        "from torchvision import transforms"
      ]
    },
    {
      "cell_type": "markdown",
      "source": [
        "cite the data set"
      ],
      "metadata": {
        "id": "aRj33bU9_RH5"
      }
    },
    {
      "cell_type": "code",
      "source": [
        "@article{Stallkamp2012,\n",
        "title = \"Man vs. computer: Benchmarking machine learning algorithms for traffic sign recognition\",\n",
        "journal = \"Neural Networks\",\n",
        "volume = \"\",\n",
        "number = \"0\",\n",
        "pages = \" - \",\n",
        "year = \"2012\",\n",
        "note = \"\",\n",
        "issn = \"0893-6080\",\n",
        "doi = \"10.1016/j.neunet.2012.02.016\",\n",
        "url = \"http://www.sciencedirect.com/science/article/pii/S0893608012000457\",\n",
        "author = \"J. Stallkamp and M. Schlipsing and J. Salmen and C. Igel\",\n",
        "keywords = \"Traffic sign recognition\",\n",
        "keywords = \"Machine learning\",\n",
        "keywords = \"Convolutional neural networks\",\n",
        "keywords = \"Benchmarking\"\n",
        "}"
      ],
      "metadata": {
        "id": "Ql_gEsKd_P8p"
      },
      "execution_count": null,
      "outputs": []
    },
    {
      "cell_type": "code",
      "source": [
        "#this is for data preprocessing and loading with train data\n",
        "def train_pl():\n",
        "  #the transofrmation we will apply to the images from the GTSRB Cars dataset\n",
        "  transform = transforms.Compose([transforms.ToTensor()])\n",
        "\n",
        "  # loading and downloading the dataset\n",
        "  train_data = torchvision.datasets.GTSRB(root='/content/dataset',split = 'train', transform=transform, download=True)\n",
        "\n",
        "  #create dataloaders so that the GTSRB Cars data can be loaded into the model we will implement\n",
        "  #batches of 19, shuffled, 2 extra worker processes (main + worker + worker = 3 worker streams)\n",
        "  train_loader = torch.utils.data.DataLoader(train_data, batch_size=19, shuffle=True, num_workers=2)\n",
        "\n",
        "  return train_loader\n"
      ],
      "metadata": {
        "id": "r-Gtu0mD68eH"
      },
      "execution_count": 9,
      "outputs": []
    }
  ]
}